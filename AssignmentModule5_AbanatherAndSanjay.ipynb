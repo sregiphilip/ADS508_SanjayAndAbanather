{
 "cells": [
  {
   "cell_type": "markdown",
   "metadata": {},
   "source": [
    "### Import Data"
   ]
  },
  {
   "cell_type": "code",
   "execution_count": 2,
   "metadata": {},
   "outputs": [],
   "source": [
    "import boto3\n",
    "import sagemaker\n",
    "import pandas as pd\n",
    "import numpy as np\n",
    "import matplotlib.pyplot as plt\n",
    "import seaborn as sns\n",
    "sess = sagemaker.Session()\n",
    "bucket = sess.default_bucket()\n",
    "role = sagemaker.get_execution_role()\n",
    "region = boto3.Session().region_name\n",
    "\n",
    "s3_transactions_combined_path = \"s3://ads508an/transactions_combined.csv\""
   ]
  },
  {
   "cell_type": "code",
   "execution_count": 3,
   "metadata": {},
   "outputs": [],
   "source": [
    "s3_client = boto3.client(\"s3\")\n",
    "\n",
    "BUCKET='ads508an'\n",
    "KEY='transactions_combined.csv'\n",
    "\n",
    "response = s3_client.get_object(Bucket=BUCKET, Key=KEY)\n",
    "df_transactions_combined = pd.read_csv(response.get(\"Body\"))"
   ]
  },
  {
   "cell_type": "code",
   "execution_count": 4,
   "metadata": {},
   "outputs": [
    {
     "data": {
      "text/html": [
       "<div>\n",
       "<style scoped>\n",
       "    .dataframe tbody tr th:only-of-type {\n",
       "        vertical-align: middle;\n",
       "    }\n",
       "\n",
       "    .dataframe tbody tr th {\n",
       "        vertical-align: top;\n",
       "    }\n",
       "\n",
       "    .dataframe thead th {\n",
       "        text-align: right;\n",
       "    }\n",
       "</style>\n",
       "<table border=\"1\" class=\"dataframe\">\n",
       "  <thead>\n",
       "    <tr style=\"text-align: right;\">\n",
       "      <th></th>\n",
       "      <th>t_dat</th>\n",
       "      <th>customer_id</th>\n",
       "      <th>article_id</th>\n",
       "      <th>price</th>\n",
       "      <th>sales_channel_id</th>\n",
       "      <th>product_code</th>\n",
       "      <th>prod_name</th>\n",
       "      <th>product_type_no</th>\n",
       "      <th>product_type_name</th>\n",
       "      <th>product_group_name</th>\n",
       "      <th>...</th>\n",
       "      <th>section_name</th>\n",
       "      <th>garment_group_no</th>\n",
       "      <th>garment_group_name</th>\n",
       "      <th>detail_desc</th>\n",
       "      <th>FN</th>\n",
       "      <th>Active</th>\n",
       "      <th>club_member_status</th>\n",
       "      <th>fashion_news_frequency</th>\n",
       "      <th>age</th>\n",
       "      <th>postal_code</th>\n",
       "    </tr>\n",
       "  </thead>\n",
       "  <tbody>\n",
       "    <tr>\n",
       "      <th>0</th>\n",
       "      <td>7/26/19</td>\n",
       "      <td>f130606dcf9f69da0c23d61a21957f88c19debf15d7e0f...</td>\n",
       "      <td>741220004</td>\n",
       "      <td>0.005068</td>\n",
       "      <td>1</td>\n",
       "      <td>741220</td>\n",
       "      <td>Maria Shorts.</td>\n",
       "      <td>274</td>\n",
       "      <td>Shorts</td>\n",
       "      <td>Garment Lower body</td>\n",
       "      <td>...</td>\n",
       "      <td>Divided Basics</td>\n",
       "      <td>1002</td>\n",
       "      <td>Jersey Basic</td>\n",
       "      <td>Short shorts in lightweight sweatshirt fabric ...</td>\n",
       "      <td>NaN</td>\n",
       "      <td>NaN</td>\n",
       "      <td>ACTIVE</td>\n",
       "      <td>NONE</td>\n",
       "      <td>20.0</td>\n",
       "      <td>5fb9d1e1aa0193a227da2d0d1531c2851777dbd9f6b8b8...</td>\n",
       "    </tr>\n",
       "    <tr>\n",
       "      <th>1</th>\n",
       "      <td>1/31/20</td>\n",
       "      <td>3fa3367e7c72c440fd9ef4563b233bc9e877db2f28fade...</td>\n",
       "      <td>804750002</td>\n",
       "      <td>0.015237</td>\n",
       "      <td>2</td>\n",
       "      <td>804750</td>\n",
       "      <td>Charlotte Padded Milano Cradle</td>\n",
       "      <td>306</td>\n",
       "      <td>Bra</td>\n",
       "      <td>Underwear</td>\n",
       "      <td>...</td>\n",
       "      <td>Womens Lingerie</td>\n",
       "      <td>1017</td>\n",
       "      <td>Under-, Nightwear</td>\n",
       "      <td>Lace bra with underwired, padded cups that sha...</td>\n",
       "      <td>1.0</td>\n",
       "      <td>1.0</td>\n",
       "      <td>ACTIVE</td>\n",
       "      <td>Regularly</td>\n",
       "      <td>18.0</td>\n",
       "      <td>326462f4d7add11ad4bad886ca8ccd7a22d0aeca51b719...</td>\n",
       "    </tr>\n",
       "    <tr>\n",
       "      <th>2</th>\n",
       "      <td>1/4/20</td>\n",
       "      <td>43454a2c49ebf0c98834cee9185f01b0f763e1af1087e5...</td>\n",
       "      <td>812683003</td>\n",
       "      <td>0.050831</td>\n",
       "      <td>1</td>\n",
       "      <td>812683</td>\n",
       "      <td>Notting Hill</td>\n",
       "      <td>265</td>\n",
       "      <td>Dress</td>\n",
       "      <td>Garment Full body</td>\n",
       "      <td>...</td>\n",
       "      <td>Womens Everyday Collection</td>\n",
       "      <td>1013</td>\n",
       "      <td>Dresses Ladies</td>\n",
       "      <td>Long dress in an airy weave with a round, gath...</td>\n",
       "      <td>NaN</td>\n",
       "      <td>NaN</td>\n",
       "      <td>ACTIVE</td>\n",
       "      <td>NONE</td>\n",
       "      <td>32.0</td>\n",
       "      <td>7864d53926434725636c8c550ad149c742df5252949724...</td>\n",
       "    </tr>\n",
       "    <tr>\n",
       "      <th>3</th>\n",
       "      <td>1/11/20</td>\n",
       "      <td>2421500a485100574700923072d3769b7b8f966c7073f4...</td>\n",
       "      <td>748269003</td>\n",
       "      <td>0.025407</td>\n",
       "      <td>1</td>\n",
       "      <td>748269</td>\n",
       "      <td>Laura short sleeve polo</td>\n",
       "      <td>254</td>\n",
       "      <td>Top</td>\n",
       "      <td>Garment Upper body</td>\n",
       "      <td>...</td>\n",
       "      <td>Womens Tailoring</td>\n",
       "      <td>1003</td>\n",
       "      <td>Knitwear</td>\n",
       "      <td>Jumper in a soft, fine-knit viscose blend with...</td>\n",
       "      <td>NaN</td>\n",
       "      <td>NaN</td>\n",
       "      <td>ACTIVE</td>\n",
       "      <td>NONE</td>\n",
       "      <td>44.0</td>\n",
       "      <td>66436f5dfbcbc6a5ce99a2de6f30d7d1a7189e09d3194b...</td>\n",
       "    </tr>\n",
       "    <tr>\n",
       "      <th>4</th>\n",
       "      <td>5/28/19</td>\n",
       "      <td>14225dc6d582044a43a6a0ef9191ca51ac06b870960be5...</td>\n",
       "      <td>608213007</td>\n",
       "      <td>0.033881</td>\n",
       "      <td>2</td>\n",
       "      <td>608213</td>\n",
       "      <td>ED Sorrel dress</td>\n",
       "      <td>265</td>\n",
       "      <td>Dress</td>\n",
       "      <td>Garment Full body</td>\n",
       "      <td>...</td>\n",
       "      <td>H&amp;M+</td>\n",
       "      <td>1010</td>\n",
       "      <td>Blouses</td>\n",
       "      <td>Straight-cut dress in a soft viscose weave wit...</td>\n",
       "      <td>NaN</td>\n",
       "      <td>NaN</td>\n",
       "      <td>ACTIVE</td>\n",
       "      <td>NONE</td>\n",
       "      <td>48.0</td>\n",
       "      <td>bb07257a124699953138300becad8e437b0884f5b7c3bb...</td>\n",
       "    </tr>\n",
       "  </tbody>\n",
       "</table>\n",
       "<p>5 rows × 35 columns</p>\n",
       "</div>"
      ],
      "text/plain": [
       "     t_dat                                        customer_id  article_id  \\\n",
       "0  7/26/19  f130606dcf9f69da0c23d61a21957f88c19debf15d7e0f...   741220004   \n",
       "1  1/31/20  3fa3367e7c72c440fd9ef4563b233bc9e877db2f28fade...   804750002   \n",
       "2   1/4/20  43454a2c49ebf0c98834cee9185f01b0f763e1af1087e5...   812683003   \n",
       "3  1/11/20  2421500a485100574700923072d3769b7b8f966c7073f4...   748269003   \n",
       "4  5/28/19  14225dc6d582044a43a6a0ef9191ca51ac06b870960be5...   608213007   \n",
       "\n",
       "      price  sales_channel_id  product_code                       prod_name  \\\n",
       "0  0.005068                 1        741220                   Maria Shorts.   \n",
       "1  0.015237                 2        804750  Charlotte Padded Milano Cradle   \n",
       "2  0.050831                 1        812683                    Notting Hill   \n",
       "3  0.025407                 1        748269         Laura short sleeve polo   \n",
       "4  0.033881                 2        608213                 ED Sorrel dress   \n",
       "\n",
       "   product_type_no product_type_name  product_group_name  ...  \\\n",
       "0              274            Shorts  Garment Lower body  ...   \n",
       "1              306               Bra           Underwear  ...   \n",
       "2              265             Dress   Garment Full body  ...   \n",
       "3              254               Top  Garment Upper body  ...   \n",
       "4              265             Dress   Garment Full body  ...   \n",
       "\n",
       "                 section_name garment_group_no  garment_group_name  \\\n",
       "0              Divided Basics             1002        Jersey Basic   \n",
       "1             Womens Lingerie             1017   Under-, Nightwear   \n",
       "2  Womens Everyday Collection             1013      Dresses Ladies   \n",
       "3            Womens Tailoring             1003            Knitwear   \n",
       "4                        H&M+             1010             Blouses   \n",
       "\n",
       "                                         detail_desc   FN Active  \\\n",
       "0  Short shorts in lightweight sweatshirt fabric ...  NaN    NaN   \n",
       "1  Lace bra with underwired, padded cups that sha...  1.0    1.0   \n",
       "2  Long dress in an airy weave with a round, gath...  NaN    NaN   \n",
       "3  Jumper in a soft, fine-knit viscose blend with...  NaN    NaN   \n",
       "4  Straight-cut dress in a soft viscose weave wit...  NaN    NaN   \n",
       "\n",
       "   club_member_status fashion_news_frequency   age  \\\n",
       "0              ACTIVE                   NONE  20.0   \n",
       "1              ACTIVE              Regularly  18.0   \n",
       "2              ACTIVE                   NONE  32.0   \n",
       "3              ACTIVE                   NONE  44.0   \n",
       "4              ACTIVE                   NONE  48.0   \n",
       "\n",
       "                                         postal_code  \n",
       "0  5fb9d1e1aa0193a227da2d0d1531c2851777dbd9f6b8b8...  \n",
       "1  326462f4d7add11ad4bad886ca8ccd7a22d0aeca51b719...  \n",
       "2  7864d53926434725636c8c550ad149c742df5252949724...  \n",
       "3  66436f5dfbcbc6a5ce99a2de6f30d7d1a7189e09d3194b...  \n",
       "4  bb07257a124699953138300becad8e437b0884f5b7c3bb...  \n",
       "\n",
       "[5 rows x 35 columns]"
      ]
     },
     "execution_count": 4,
     "metadata": {},
     "output_type": "execute_result"
    }
   ],
   "source": [
    "df_transactions_combined.head()"
   ]
  },
  {
   "cell_type": "markdown",
   "metadata": {},
   "source": [
    "### Type Transformation"
   ]
  },
  {
   "cell_type": "code",
   "execution_count": 5,
   "metadata": {},
   "outputs": [],
   "source": [
    "df_transactions_combined['article_id'] = df_transactions_combined['article_id'].astype('str').dtypes\n",
    "df_transactions_combined['product_code'] = df_transactions_combined['product_code'].astype('str').dtypes\n",
    "df_transactions_combined['product_type_no'] = df_transactions_combined['product_type_no'].astype('str').dtypes\n",
    "df_transactions_combined['colour_group_code'] = df_transactions_combined['colour_group_code'].astype('str').dtypes\n",
    "df_transactions_combined['graphical_appearance_no'] = df_transactions_combined['graphical_appearance_no'].astype('str').dtypes\n",
    "df_transactions_combined['perceived_colour_value_id'] = df_transactions_combined['perceived_colour_value_id'].astype('str').dtypes\n",
    "df_transactions_combined['perceived_colour_master_id'] = df_transactions_combined['perceived_colour_master_id'].astype('str').dtypes\n",
    "df_transactions_combined['department_no'] = df_transactions_combined['department_no'].astype('str').dtypes\n",
    "df_transactions_combined['index_code'] = df_transactions_combined['index_code'].astype('str').dtypes\n",
    "df_transactions_combined['index_group_no'] = df_transactions_combined['index_group_no'].astype('str').dtypes\n",
    "df_transactions_combined['section_no'] = df_transactions_combined['section_no'].astype('str').dtypes\n",
    "df_transactions_combined['garment_group_no'] = df_transactions_combined['garment_group_no'].astype('str').dtypes\n",
    "df_transactions_combined['FN'] = df_transactions_combined['FN'].astype('category').dtypes\n",
    "df_transactions_combined['Active'] = df_transactions_combined['Active'].astype('category').dtypes\n",
    "df_transactions_combined['club_member_status'] = df_transactions_combined['club_member_status'].astype('category').dtypes\n",
    "df_transactions_combined['fashion_news_frequency'] = df_transactions_combined['fashion_news_frequency'].astype('category').dtypes"
   ]
  },
  {
   "cell_type": "markdown",
   "metadata": {},
   "source": [
    "### Data Preperation"
   ]
  },
  {
   "cell_type": "code",
   "execution_count": 6,
   "metadata": {},
   "outputs": [],
   "source": [
    "#Copy the dataframe so if you make any mistakes we can easily revert the changes\n",
    "df_transact = df_transactions_combined"
   ]
  },
  {
   "cell_type": "markdown",
   "metadata": {},
   "source": [
    "##### Change format of the price variable"
   ]
  },
  {
   "cell_type": "code",
   "execution_count": 7,
   "metadata": {},
   "outputs": [],
   "source": [
    "df_transact['price'] = round(df_transact['price']*100,2)"
   ]
  },
  {
   "cell_type": "markdown",
   "metadata": {},
   "source": [
    "#### Remove Null Values"
   ]
  },
  {
   "cell_type": "code",
   "execution_count": 8,
   "metadata": {},
   "outputs": [],
   "source": [
    "df_transact = df_transact.dropna(subset=['age', 'detail_desc'])"
   ]
  },
  {
   "cell_type": "code",
   "execution_count": 9,
   "metadata": {},
   "outputs": [
    {
     "data": {
      "text/plain": [
       "t_dat                           0\n",
       "customer_id                     0\n",
       "article_id                      0\n",
       "price                           0\n",
       "sales_channel_id                0\n",
       "product_code                    0\n",
       "prod_name                       0\n",
       "product_type_no                 0\n",
       "product_type_name               0\n",
       "product_group_name              0\n",
       "graphical_appearance_no         0\n",
       "graphical_appearance_name       0\n",
       "colour_group_code               0\n",
       "colour_group_name               0\n",
       "perceived_colour_value_id       0\n",
       "perceived_colour_value_name     0\n",
       "perceived_colour_master_id      0\n",
       "perceived_colour_master_name    0\n",
       "department_no                   0\n",
       "department_name                 0\n",
       "index_code                      0\n",
       "index_name                      0\n",
       "index_group_no                  0\n",
       "index_group_name                0\n",
       "section_no                      0\n",
       "section_name                    0\n",
       "garment_group_no                0\n",
       "garment_group_name              0\n",
       "detail_desc                     0\n",
       "FN                              0\n",
       "Active                          0\n",
       "club_member_status              0\n",
       "fashion_news_frequency          0\n",
       "age                             0\n",
       "postal_code                     0\n",
       "dtype: int64"
      ]
     },
     "execution_count": 9,
     "metadata": {},
     "output_type": "execute_result"
    }
   ],
   "source": [
    "df_transact.isnull().sum()"
   ]
  },
  {
   "cell_type": "markdown",
   "metadata": {},
   "source": [
    "##### Impute Null Values"
   ]
  },
  {
   "cell_type": "code",
   "execution_count": 10,
   "metadata": {
    "scrolled": true
   },
   "outputs": [
    {
     "name": "stderr",
     "output_type": "stream",
     "text": [
      "/opt/conda/lib/python3.7/site-packages/ipykernel_launcher.py:1: SettingWithCopyWarning: \n",
      "A value is trying to be set on a copy of a slice from a DataFrame.\n",
      "Try using .loc[row_indexer,col_indexer] = value instead\n",
      "\n",
      "See the caveats in the documentation: https://pandas.pydata.org/pandas-docs/stable/user_guide/indexing.html#returning-a-view-versus-a-copy\n",
      "  \"\"\"Entry point for launching an IPython kernel.\n",
      "/opt/conda/lib/python3.7/site-packages/ipykernel_launcher.py:2: SettingWithCopyWarning: \n",
      "A value is trying to be set on a copy of a slice from a DataFrame.\n",
      "Try using .loc[row_indexer,col_indexer] = value instead\n",
      "\n",
      "See the caveats in the documentation: https://pandas.pydata.org/pandas-docs/stable/user_guide/indexing.html#returning-a-view-versus-a-copy\n",
      "  \n",
      "/opt/conda/lib/python3.7/site-packages/ipykernel_launcher.py:3: SettingWithCopyWarning: \n",
      "A value is trying to be set on a copy of a slice from a DataFrame.\n",
      "Try using .loc[row_indexer,col_indexer] = value instead\n",
      "\n",
      "See the caveats in the documentation: https://pandas.pydata.org/pandas-docs/stable/user_guide/indexing.html#returning-a-view-versus-a-copy\n",
      "  This is separate from the ipykernel package so we can avoid doing imports until\n",
      "/opt/conda/lib/python3.7/site-packages/ipykernel_launcher.py:4: SettingWithCopyWarning: \n",
      "A value is trying to be set on a copy of a slice from a DataFrame.\n",
      "Try using .loc[row_indexer,col_indexer] = value instead\n",
      "\n",
      "See the caveats in the documentation: https://pandas.pydata.org/pandas-docs/stable/user_guide/indexing.html#returning-a-view-versus-a-copy\n",
      "  after removing the cwd from sys.path.\n"
     ]
    }
   ],
   "source": [
    "df_transact['FN'] = df_transact['FN'].fillna(0)\n",
    "df_transact['Active'] = df_transact['Active'].fillna(0)\n",
    "df_transact['club_member_status'] = df_transact['club_member_status'].fillna(0)\n",
    "df_transact['fashion_news_frequency'] = df_transact['fashion_news_frequency'].fillna(0)"
   ]
  },
  {
   "cell_type": "code",
   "execution_count": 11,
   "metadata": {},
   "outputs": [
    {
     "data": {
      "text/plain": [
       "t_dat                           0\n",
       "customer_id                     0\n",
       "article_id                      0\n",
       "price                           0\n",
       "sales_channel_id                0\n",
       "product_code                    0\n",
       "prod_name                       0\n",
       "product_type_no                 0\n",
       "product_type_name               0\n",
       "product_group_name              0\n",
       "graphical_appearance_no         0\n",
       "graphical_appearance_name       0\n",
       "colour_group_code               0\n",
       "colour_group_name               0\n",
       "perceived_colour_value_id       0\n",
       "perceived_colour_value_name     0\n",
       "perceived_colour_master_id      0\n",
       "perceived_colour_master_name    0\n",
       "department_no                   0\n",
       "department_name                 0\n",
       "index_code                      0\n",
       "index_name                      0\n",
       "index_group_no                  0\n",
       "index_group_name                0\n",
       "section_no                      0\n",
       "section_name                    0\n",
       "garment_group_no                0\n",
       "garment_group_name              0\n",
       "detail_desc                     0\n",
       "FN                              0\n",
       "Active                          0\n",
       "club_member_status              0\n",
       "fashion_news_frequency          0\n",
       "age                             0\n",
       "postal_code                     0\n",
       "dtype: int64"
      ]
     },
     "execution_count": 11,
     "metadata": {},
     "output_type": "execute_result"
    }
   ],
   "source": [
    "df_transact.isnull().sum()"
   ]
  },
  {
   "cell_type": "code",
   "execution_count": 12,
   "metadata": {},
   "outputs": [],
   "source": [
    "df_selected=df_transact[['product_type_name','club_member_status','department_name','section_name','Active','garment_group_name','sales_channel_id','price','age']]"
   ]
  },
  {
   "cell_type": "code",
   "execution_count": 13,
   "metadata": {},
   "outputs": [
    {
     "data": {
      "text/html": [
       "<div>\n",
       "<style scoped>\n",
       "    .dataframe tbody tr th:only-of-type {\n",
       "        vertical-align: middle;\n",
       "    }\n",
       "\n",
       "    .dataframe tbody tr th {\n",
       "        vertical-align: top;\n",
       "    }\n",
       "\n",
       "    .dataframe thead th {\n",
       "        text-align: right;\n",
       "    }\n",
       "</style>\n",
       "<table border=\"1\" class=\"dataframe\">\n",
       "  <thead>\n",
       "    <tr style=\"text-align: right;\">\n",
       "      <th></th>\n",
       "      <th>product_type_name</th>\n",
       "      <th>club_member_status</th>\n",
       "      <th>department_name</th>\n",
       "      <th>section_name</th>\n",
       "      <th>Active</th>\n",
       "      <th>garment_group_name</th>\n",
       "      <th>sales_channel_id</th>\n",
       "      <th>price</th>\n",
       "      <th>age</th>\n",
       "    </tr>\n",
       "  </thead>\n",
       "  <tbody>\n",
       "    <tr>\n",
       "      <th>0</th>\n",
       "      <td>Shorts</td>\n",
       "      <td>category</td>\n",
       "      <td>Basic 1</td>\n",
       "      <td>Divided Basics</td>\n",
       "      <td>category</td>\n",
       "      <td>Jersey Basic</td>\n",
       "      <td>1</td>\n",
       "      <td>0.51</td>\n",
       "      <td>20.0</td>\n",
       "    </tr>\n",
       "    <tr>\n",
       "      <th>1</th>\n",
       "      <td>Bra</td>\n",
       "      <td>category</td>\n",
       "      <td>Expressive Lingerie</td>\n",
       "      <td>Womens Lingerie</td>\n",
       "      <td>category</td>\n",
       "      <td>Under-, Nightwear</td>\n",
       "      <td>2</td>\n",
       "      <td>1.52</td>\n",
       "      <td>18.0</td>\n",
       "    </tr>\n",
       "    <tr>\n",
       "      <th>2</th>\n",
       "      <td>Dress</td>\n",
       "      <td>category</td>\n",
       "      <td>Dress</td>\n",
       "      <td>Womens Everyday Collection</td>\n",
       "      <td>category</td>\n",
       "      <td>Dresses Ladies</td>\n",
       "      <td>1</td>\n",
       "      <td>5.08</td>\n",
       "      <td>32.0</td>\n",
       "    </tr>\n",
       "    <tr>\n",
       "      <th>3</th>\n",
       "      <td>Top</td>\n",
       "      <td>category</td>\n",
       "      <td>Knitwear</td>\n",
       "      <td>Womens Tailoring</td>\n",
       "      <td>category</td>\n",
       "      <td>Knitwear</td>\n",
       "      <td>1</td>\n",
       "      <td>2.54</td>\n",
       "      <td>44.0</td>\n",
       "    </tr>\n",
       "    <tr>\n",
       "      <th>4</th>\n",
       "      <td>Dress</td>\n",
       "      <td>category</td>\n",
       "      <td>Woven top</td>\n",
       "      <td>H&amp;M+</td>\n",
       "      <td>category</td>\n",
       "      <td>Blouses</td>\n",
       "      <td>2</td>\n",
       "      <td>3.39</td>\n",
       "      <td>48.0</td>\n",
       "    </tr>\n",
       "  </tbody>\n",
       "</table>\n",
       "</div>"
      ],
      "text/plain": [
       "  product_type_name club_member_status      department_name  \\\n",
       "0            Shorts           category              Basic 1   \n",
       "1               Bra           category  Expressive Lingerie   \n",
       "2             Dress           category                Dress   \n",
       "3               Top           category             Knitwear   \n",
       "4             Dress           category            Woven top   \n",
       "\n",
       "                 section_name    Active garment_group_name  sales_channel_id  \\\n",
       "0              Divided Basics  category       Jersey Basic                 1   \n",
       "1             Womens Lingerie  category  Under-, Nightwear                 2   \n",
       "2  Womens Everyday Collection  category     Dresses Ladies                 1   \n",
       "3            Womens Tailoring  category           Knitwear                 1   \n",
       "4                        H&M+  category            Blouses                 2   \n",
       "\n",
       "   price   age  \n",
       "0   0.51  20.0  \n",
       "1   1.52  18.0  \n",
       "2   5.08  32.0  \n",
       "3   2.54  44.0  \n",
       "4   3.39  48.0  "
      ]
     },
     "execution_count": 13,
     "metadata": {},
     "output_type": "execute_result"
    }
   ],
   "source": [
    "df_selected.head()"
   ]
  },
  {
   "cell_type": "code",
   "execution_count": 14,
   "metadata": {},
   "outputs": [],
   "source": [
    "count_class_2, count_class_1= df_selected.sales_channel_id.value_counts()\n",
    "\n",
    "# Divide by class\n",
    "df_class_1 = df_selected[df_selected['sales_channel_id'] == 1]\n",
    "df_class_2 = df_selected[df_selected['sales_channel_id'] == 2]"
   ]
  },
  {
   "cell_type": "code",
   "execution_count": 15,
   "metadata": {},
   "outputs": [
    {
     "data": {
      "text/html": [
       "<div>\n",
       "<style scoped>\n",
       "    .dataframe tbody tr th:only-of-type {\n",
       "        vertical-align: middle;\n",
       "    }\n",
       "\n",
       "    .dataframe tbody tr th {\n",
       "        vertical-align: top;\n",
       "    }\n",
       "\n",
       "    .dataframe thead th {\n",
       "        text-align: right;\n",
       "    }\n",
       "</style>\n",
       "<table border=\"1\" class=\"dataframe\">\n",
       "  <thead>\n",
       "    <tr style=\"text-align: right;\">\n",
       "      <th></th>\n",
       "      <th>product_type_name</th>\n",
       "      <th>club_member_status</th>\n",
       "      <th>department_name</th>\n",
       "      <th>section_name</th>\n",
       "      <th>Active</th>\n",
       "      <th>garment_group_name</th>\n",
       "      <th>sales_channel_id</th>\n",
       "      <th>price</th>\n",
       "      <th>age</th>\n",
       "    </tr>\n",
       "  </thead>\n",
       "  <tbody>\n",
       "    <tr>\n",
       "      <th>0</th>\n",
       "      <td>Shorts</td>\n",
       "      <td>category</td>\n",
       "      <td>Basic 1</td>\n",
       "      <td>Divided Basics</td>\n",
       "      <td>category</td>\n",
       "      <td>Jersey Basic</td>\n",
       "      <td>1</td>\n",
       "      <td>0.51</td>\n",
       "      <td>20.0</td>\n",
       "    </tr>\n",
       "    <tr>\n",
       "      <th>2</th>\n",
       "      <td>Dress</td>\n",
       "      <td>category</td>\n",
       "      <td>Dress</td>\n",
       "      <td>Womens Everyday Collection</td>\n",
       "      <td>category</td>\n",
       "      <td>Dresses Ladies</td>\n",
       "      <td>1</td>\n",
       "      <td>5.08</td>\n",
       "      <td>32.0</td>\n",
       "    </tr>\n",
       "    <tr>\n",
       "      <th>3</th>\n",
       "      <td>Top</td>\n",
       "      <td>category</td>\n",
       "      <td>Knitwear</td>\n",
       "      <td>Womens Tailoring</td>\n",
       "      <td>category</td>\n",
       "      <td>Knitwear</td>\n",
       "      <td>1</td>\n",
       "      <td>2.54</td>\n",
       "      <td>44.0</td>\n",
       "    </tr>\n",
       "    <tr>\n",
       "      <th>11</th>\n",
       "      <td>Bra</td>\n",
       "      <td>category</td>\n",
       "      <td>Expressive Lingerie</td>\n",
       "      <td>Womens Lingerie</td>\n",
       "      <td>category</td>\n",
       "      <td>Under-, Nightwear</td>\n",
       "      <td>1</td>\n",
       "      <td>2.54</td>\n",
       "      <td>49.0</td>\n",
       "    </tr>\n",
       "    <tr>\n",
       "      <th>13</th>\n",
       "      <td>Hair ties</td>\n",
       "      <td>category</td>\n",
       "      <td>Hair Accessories</td>\n",
       "      <td>Womens Small accessories</td>\n",
       "      <td>category</td>\n",
       "      <td>Accessories</td>\n",
       "      <td>1</td>\n",
       "      <td>0.68</td>\n",
       "      <td>20.0</td>\n",
       "    </tr>\n",
       "  </tbody>\n",
       "</table>\n",
       "</div>"
      ],
      "text/plain": [
       "   product_type_name club_member_status      department_name  \\\n",
       "0             Shorts           category              Basic 1   \n",
       "2              Dress           category                Dress   \n",
       "3                Top           category             Knitwear   \n",
       "11               Bra           category  Expressive Lingerie   \n",
       "13         Hair ties           category     Hair Accessories   \n",
       "\n",
       "                  section_name    Active garment_group_name  sales_channel_id  \\\n",
       "0               Divided Basics  category       Jersey Basic                 1   \n",
       "2   Womens Everyday Collection  category     Dresses Ladies                 1   \n",
       "3             Womens Tailoring  category           Knitwear                 1   \n",
       "11             Womens Lingerie  category  Under-, Nightwear                 1   \n",
       "13    Womens Small accessories  category        Accessories                 1   \n",
       "\n",
       "    price   age  \n",
       "0    0.51  20.0  \n",
       "2    5.08  32.0  \n",
       "3    2.54  44.0  \n",
       "11   2.54  49.0  \n",
       "13   0.68  20.0  "
      ]
     },
     "execution_count": 15,
     "metadata": {},
     "output_type": "execute_result"
    }
   ],
   "source": [
    "df_class_1.head()"
   ]
  },
  {
   "cell_type": "code",
   "execution_count": 16,
   "metadata": {},
   "outputs": [
    {
     "name": "stdout",
     "output_type": "stream",
     "text": [
      "139924\n"
     ]
    }
   ],
   "source": [
    "#print(count_class_1)\n",
    "print(count_class_2)"
   ]
  },
  {
   "cell_type": "code",
   "execution_count": 17,
   "metadata": {},
   "outputs": [],
   "source": [
    "df_class_2_under = df_class_2.sample(count_class_1)\n",
    "df_test_under = pd.concat([df_class_2_under, df_class_1], axis=0)"
   ]
  },
  {
   "cell_type": "code",
   "execution_count": 18,
   "metadata": {},
   "outputs": [
    {
     "data": {
      "text/html": [
       "<div>\n",
       "<style scoped>\n",
       "    .dataframe tbody tr th:only-of-type {\n",
       "        vertical-align: middle;\n",
       "    }\n",
       "\n",
       "    .dataframe tbody tr th {\n",
       "        vertical-align: top;\n",
       "    }\n",
       "\n",
       "    .dataframe thead th {\n",
       "        text-align: right;\n",
       "    }\n",
       "</style>\n",
       "<table border=\"1\" class=\"dataframe\">\n",
       "  <thead>\n",
       "    <tr style=\"text-align: right;\">\n",
       "      <th></th>\n",
       "      <th>product_type_name</th>\n",
       "      <th>club_member_status</th>\n",
       "      <th>department_name</th>\n",
       "      <th>section_name</th>\n",
       "      <th>Active</th>\n",
       "      <th>garment_group_name</th>\n",
       "      <th>sales_channel_id</th>\n",
       "      <th>price</th>\n",
       "      <th>age</th>\n",
       "    </tr>\n",
       "  </thead>\n",
       "  <tbody>\n",
       "    <tr>\n",
       "      <th>188125</th>\n",
       "      <td>Dress</td>\n",
       "      <td>category</td>\n",
       "      <td>Dresses</td>\n",
       "      <td>Divided Collection</td>\n",
       "      <td>category</td>\n",
       "      <td>Dresses Ladies</td>\n",
       "      <td>2</td>\n",
       "      <td>4.41</td>\n",
       "      <td>43.0</td>\n",
       "    </tr>\n",
       "    <tr>\n",
       "      <th>30402</th>\n",
       "      <td>Top</td>\n",
       "      <td>category</td>\n",
       "      <td>Jersey fancy</td>\n",
       "      <td>Womens Everyday Collection</td>\n",
       "      <td>category</td>\n",
       "      <td>Jersey Fancy</td>\n",
       "      <td>2</td>\n",
       "      <td>0.76</td>\n",
       "      <td>25.0</td>\n",
       "    </tr>\n",
       "    <tr>\n",
       "      <th>72976</th>\n",
       "      <td>Trousers</td>\n",
       "      <td>category</td>\n",
       "      <td>Trousers</td>\n",
       "      <td>Divided Collection</td>\n",
       "      <td>category</td>\n",
       "      <td>Trousers</td>\n",
       "      <td>2</td>\n",
       "      <td>3.39</td>\n",
       "      <td>54.0</td>\n",
       "    </tr>\n",
       "    <tr>\n",
       "      <th>62241</th>\n",
       "      <td>Sweater</td>\n",
       "      <td>category</td>\n",
       "      <td>Jersey Fancy DS</td>\n",
       "      <td>Divided Selected</td>\n",
       "      <td>category</td>\n",
       "      <td>Jersey Fancy</td>\n",
       "      <td>2</td>\n",
       "      <td>4.57</td>\n",
       "      <td>23.0</td>\n",
       "    </tr>\n",
       "    <tr>\n",
       "      <th>33097</th>\n",
       "      <td>Vest top</td>\n",
       "      <td>category</td>\n",
       "      <td>Jersey</td>\n",
       "      <td>Mama</td>\n",
       "      <td>category</td>\n",
       "      <td>Jersey Fancy</td>\n",
       "      <td>2</td>\n",
       "      <td>2.48</td>\n",
       "      <td>34.0</td>\n",
       "    </tr>\n",
       "  </tbody>\n",
       "</table>\n",
       "</div>"
      ],
      "text/plain": [
       "       product_type_name club_member_status  department_name  \\\n",
       "188125             Dress           category          Dresses   \n",
       "30402                Top           category     Jersey fancy   \n",
       "72976           Trousers           category         Trousers   \n",
       "62241            Sweater           category  Jersey Fancy DS   \n",
       "33097           Vest top           category           Jersey   \n",
       "\n",
       "                      section_name    Active garment_group_name  \\\n",
       "188125          Divided Collection  category     Dresses Ladies   \n",
       "30402   Womens Everyday Collection  category       Jersey Fancy   \n",
       "72976           Divided Collection  category           Trousers   \n",
       "62241             Divided Selected  category       Jersey Fancy   \n",
       "33097                         Mama  category       Jersey Fancy   \n",
       "\n",
       "        sales_channel_id  price   age  \n",
       "188125                 2   4.41  43.0  \n",
       "30402                  2   0.76  25.0  \n",
       "72976                  2   3.39  54.0  \n",
       "62241                  2   4.57  23.0  \n",
       "33097                  2   2.48  34.0  "
      ]
     },
     "execution_count": 18,
     "metadata": {},
     "output_type": "execute_result"
    }
   ],
   "source": [
    "df_test_under.head()"
   ]
  },
  {
   "cell_type": "code",
   "execution_count": 19,
   "metadata": {},
   "outputs": [
    {
     "data": {
      "text/plain": [
       "2    58510\n",
       "1    58510\n",
       "Name: sales_channel_id, dtype: int64"
      ]
     },
     "execution_count": 19,
     "metadata": {},
     "output_type": "execute_result"
    }
   ],
   "source": [
    "df_test_under.sales_channel_id.value_counts()"
   ]
  },
  {
   "cell_type": "markdown",
   "metadata": {},
   "source": [
    "Hot Encoding"
   ]
  },
  {
   "cell_type": "code",
   "execution_count": 20,
   "metadata": {},
   "outputs": [],
   "source": [
    "from sklearn.preprocessing import OneHotEncoder"
   ]
  },
  {
   "cell_type": "code",
   "execution_count": 21,
   "metadata": {},
   "outputs": [],
   "source": [
    "one_hot_encoder = OneHotEncoder(sparse=False, drop = \"first\")# dropping first to avoid dummy variable trap"
   ]
  },
  {
   "cell_type": "code",
   "execution_count": 22,
   "metadata": {},
   "outputs": [],
   "source": [
    "categorical_vars =['product_type_name','club_member_status','department_name','section_name','Active','garment_group_name','sales_channel_id']"
   ]
  },
  {
   "cell_type": "code",
   "execution_count": 23,
   "metadata": {},
   "outputs": [],
   "source": [
    "OHE = one_hot_encoder.fit(df_test_under[categorical_vars])"
   ]
  },
  {
   "cell_type": "code",
   "execution_count": 24,
   "metadata": {},
   "outputs": [],
   "source": [
    "#The new dataframe is : df_test_under Use this !\n",
    "encoder_vars_array = OHE.transform(df_test_under[categorical_vars])"
   ]
  },
  {
   "cell_type": "code",
   "execution_count": 25,
   "metadata": {},
   "outputs": [],
   "source": [
    "encoder_feature_names = one_hot_encoder.get_feature_names(categorical_vars)"
   ]
  },
  {
   "cell_type": "code",
   "execution_count": 26,
   "metadata": {},
   "outputs": [],
   "source": [
    "df_categorical=pd.DataFrame(encoder_vars_array,columns = encoder_feature_names)"
   ]
  },
  {
   "cell_type": "code",
   "execution_count": 27,
   "metadata": {
    "scrolled": true
   },
   "outputs": [
    {
     "data": {
      "text/html": [
       "<div>\n",
       "<style scoped>\n",
       "    .dataframe tbody tr th:only-of-type {\n",
       "        vertical-align: middle;\n",
       "    }\n",
       "\n",
       "    .dataframe tbody tr th {\n",
       "        vertical-align: top;\n",
       "    }\n",
       "\n",
       "    .dataframe thead th {\n",
       "        text-align: right;\n",
       "    }\n",
       "</style>\n",
       "<table border=\"1\" class=\"dataframe\">\n",
       "  <thead>\n",
       "    <tr style=\"text-align: right;\">\n",
       "      <th></th>\n",
       "      <th>product_type_name_Baby Bib</th>\n",
       "      <th>product_type_name_Backpack</th>\n",
       "      <th>product_type_name_Bag</th>\n",
       "      <th>product_type_name_Ballerinas</th>\n",
       "      <th>product_type_name_Beanie</th>\n",
       "      <th>product_type_name_Belt</th>\n",
       "      <th>product_type_name_Bikini top</th>\n",
       "      <th>product_type_name_Blazer</th>\n",
       "      <th>product_type_name_Blouse</th>\n",
       "      <th>product_type_name_Bodysuit</th>\n",
       "      <th>...</th>\n",
       "      <th>garment_group_name_Skirts</th>\n",
       "      <th>garment_group_name_Socks and Tights</th>\n",
       "      <th>garment_group_name_Special Offers</th>\n",
       "      <th>garment_group_name_Swimwear</th>\n",
       "      <th>garment_group_name_Trousers</th>\n",
       "      <th>garment_group_name_Trousers Denim</th>\n",
       "      <th>garment_group_name_Under-, Nightwear</th>\n",
       "      <th>garment_group_name_Unknown</th>\n",
       "      <th>garment_group_name_Woven/Jersey/Knitted mix Baby</th>\n",
       "      <th>sales_channel_id_2</th>\n",
       "    </tr>\n",
       "  </thead>\n",
       "  <tbody>\n",
       "    <tr>\n",
       "      <th>0</th>\n",
       "      <td>0.0</td>\n",
       "      <td>0.0</td>\n",
       "      <td>0.0</td>\n",
       "      <td>0.0</td>\n",
       "      <td>0.0</td>\n",
       "      <td>0.0</td>\n",
       "      <td>0.0</td>\n",
       "      <td>0.0</td>\n",
       "      <td>0.0</td>\n",
       "      <td>0.0</td>\n",
       "      <td>...</td>\n",
       "      <td>0.0</td>\n",
       "      <td>0.0</td>\n",
       "      <td>0.0</td>\n",
       "      <td>0.0</td>\n",
       "      <td>0.0</td>\n",
       "      <td>0.0</td>\n",
       "      <td>0.0</td>\n",
       "      <td>0.0</td>\n",
       "      <td>0.0</td>\n",
       "      <td>1.0</td>\n",
       "    </tr>\n",
       "    <tr>\n",
       "      <th>1</th>\n",
       "      <td>0.0</td>\n",
       "      <td>0.0</td>\n",
       "      <td>0.0</td>\n",
       "      <td>0.0</td>\n",
       "      <td>0.0</td>\n",
       "      <td>0.0</td>\n",
       "      <td>0.0</td>\n",
       "      <td>0.0</td>\n",
       "      <td>0.0</td>\n",
       "      <td>0.0</td>\n",
       "      <td>...</td>\n",
       "      <td>0.0</td>\n",
       "      <td>0.0</td>\n",
       "      <td>0.0</td>\n",
       "      <td>0.0</td>\n",
       "      <td>0.0</td>\n",
       "      <td>0.0</td>\n",
       "      <td>0.0</td>\n",
       "      <td>0.0</td>\n",
       "      <td>0.0</td>\n",
       "      <td>1.0</td>\n",
       "    </tr>\n",
       "    <tr>\n",
       "      <th>2</th>\n",
       "      <td>0.0</td>\n",
       "      <td>0.0</td>\n",
       "      <td>0.0</td>\n",
       "      <td>0.0</td>\n",
       "      <td>0.0</td>\n",
       "      <td>0.0</td>\n",
       "      <td>0.0</td>\n",
       "      <td>0.0</td>\n",
       "      <td>0.0</td>\n",
       "      <td>0.0</td>\n",
       "      <td>...</td>\n",
       "      <td>0.0</td>\n",
       "      <td>0.0</td>\n",
       "      <td>0.0</td>\n",
       "      <td>0.0</td>\n",
       "      <td>1.0</td>\n",
       "      <td>0.0</td>\n",
       "      <td>0.0</td>\n",
       "      <td>0.0</td>\n",
       "      <td>0.0</td>\n",
       "      <td>1.0</td>\n",
       "    </tr>\n",
       "    <tr>\n",
       "      <th>3</th>\n",
       "      <td>0.0</td>\n",
       "      <td>0.0</td>\n",
       "      <td>0.0</td>\n",
       "      <td>0.0</td>\n",
       "      <td>0.0</td>\n",
       "      <td>0.0</td>\n",
       "      <td>0.0</td>\n",
       "      <td>0.0</td>\n",
       "      <td>0.0</td>\n",
       "      <td>0.0</td>\n",
       "      <td>...</td>\n",
       "      <td>0.0</td>\n",
       "      <td>0.0</td>\n",
       "      <td>0.0</td>\n",
       "      <td>0.0</td>\n",
       "      <td>0.0</td>\n",
       "      <td>0.0</td>\n",
       "      <td>0.0</td>\n",
       "      <td>0.0</td>\n",
       "      <td>0.0</td>\n",
       "      <td>1.0</td>\n",
       "    </tr>\n",
       "    <tr>\n",
       "      <th>4</th>\n",
       "      <td>0.0</td>\n",
       "      <td>0.0</td>\n",
       "      <td>0.0</td>\n",
       "      <td>0.0</td>\n",
       "      <td>0.0</td>\n",
       "      <td>0.0</td>\n",
       "      <td>0.0</td>\n",
       "      <td>0.0</td>\n",
       "      <td>0.0</td>\n",
       "      <td>0.0</td>\n",
       "      <td>...</td>\n",
       "      <td>0.0</td>\n",
       "      <td>0.0</td>\n",
       "      <td>0.0</td>\n",
       "      <td>0.0</td>\n",
       "      <td>0.0</td>\n",
       "      <td>0.0</td>\n",
       "      <td>0.0</td>\n",
       "      <td>0.0</td>\n",
       "      <td>0.0</td>\n",
       "      <td>1.0</td>\n",
       "    </tr>\n",
       "  </tbody>\n",
       "</table>\n",
       "<p>5 rows × 422 columns</p>\n",
       "</div>"
      ],
      "text/plain": [
       "   product_type_name_Baby Bib  product_type_name_Backpack  \\\n",
       "0                         0.0                         0.0   \n",
       "1                         0.0                         0.0   \n",
       "2                         0.0                         0.0   \n",
       "3                         0.0                         0.0   \n",
       "4                         0.0                         0.0   \n",
       "\n",
       "   product_type_name_Bag  product_type_name_Ballerinas  \\\n",
       "0                    0.0                           0.0   \n",
       "1                    0.0                           0.0   \n",
       "2                    0.0                           0.0   \n",
       "3                    0.0                           0.0   \n",
       "4                    0.0                           0.0   \n",
       "\n",
       "   product_type_name_Beanie  product_type_name_Belt  \\\n",
       "0                       0.0                     0.0   \n",
       "1                       0.0                     0.0   \n",
       "2                       0.0                     0.0   \n",
       "3                       0.0                     0.0   \n",
       "4                       0.0                     0.0   \n",
       "\n",
       "   product_type_name_Bikini top  product_type_name_Blazer  \\\n",
       "0                           0.0                       0.0   \n",
       "1                           0.0                       0.0   \n",
       "2                           0.0                       0.0   \n",
       "3                           0.0                       0.0   \n",
       "4                           0.0                       0.0   \n",
       "\n",
       "   product_type_name_Blouse  product_type_name_Bodysuit  ...  \\\n",
       "0                       0.0                         0.0  ...   \n",
       "1                       0.0                         0.0  ...   \n",
       "2                       0.0                         0.0  ...   \n",
       "3                       0.0                         0.0  ...   \n",
       "4                       0.0                         0.0  ...   \n",
       "\n",
       "   garment_group_name_Skirts  garment_group_name_Socks and Tights  \\\n",
       "0                        0.0                                  0.0   \n",
       "1                        0.0                                  0.0   \n",
       "2                        0.0                                  0.0   \n",
       "3                        0.0                                  0.0   \n",
       "4                        0.0                                  0.0   \n",
       "\n",
       "   garment_group_name_Special Offers  garment_group_name_Swimwear  \\\n",
       "0                                0.0                          0.0   \n",
       "1                                0.0                          0.0   \n",
       "2                                0.0                          0.0   \n",
       "3                                0.0                          0.0   \n",
       "4                                0.0                          0.0   \n",
       "\n",
       "   garment_group_name_Trousers  garment_group_name_Trousers Denim  \\\n",
       "0                          0.0                                0.0   \n",
       "1                          0.0                                0.0   \n",
       "2                          1.0                                0.0   \n",
       "3                          0.0                                0.0   \n",
       "4                          0.0                                0.0   \n",
       "\n",
       "   garment_group_name_Under-, Nightwear  garment_group_name_Unknown  \\\n",
       "0                                   0.0                         0.0   \n",
       "1                                   0.0                         0.0   \n",
       "2                                   0.0                         0.0   \n",
       "3                                   0.0                         0.0   \n",
       "4                                   0.0                         0.0   \n",
       "\n",
       "   garment_group_name_Woven/Jersey/Knitted mix Baby  sales_channel_id_2  \n",
       "0                                               0.0                 1.0  \n",
       "1                                               0.0                 1.0  \n",
       "2                                               0.0                 1.0  \n",
       "3                                               0.0                 1.0  \n",
       "4                                               0.0                 1.0  \n",
       "\n",
       "[5 rows x 422 columns]"
      ]
     },
     "execution_count": 27,
     "metadata": {},
     "output_type": "execute_result"
    }
   ],
   "source": [
    "df_categorical.head()"
   ]
  },
  {
   "cell_type": "code",
   "execution_count": 28,
   "metadata": {},
   "outputs": [],
   "source": [
    "numeric_vars=['price','age']\n",
    "df_numeric=df_test_under[numeric_vars]"
   ]
  },
  {
   "cell_type": "code",
   "execution_count": 29,
   "metadata": {},
   "outputs": [],
   "source": [
    "# concatenate the new dataframe back to the original input variables dataframe\n",
    "df_final = pd.concat([df_numeric.reset_index(drop=True), df_categorical.reset_index(drop=True)], axis = 1)"
   ]
  },
  {
   "cell_type": "markdown",
   "metadata": {},
   "source": [
    "### Split Test and Training Dataset"
   ]
  },
  {
   "cell_type": "code",
   "execution_count": 30,
   "metadata": {},
   "outputs": [],
   "source": [
    "from sklearn.model_selection import train_test_split"
   ]
  },
  {
   "cell_type": "code",
   "execution_count": 31,
   "metadata": {},
   "outputs": [
    {
     "name": "stdout",
     "output_type": "stream",
     "text": [
      "No. of training examples: 87765\n",
      "No. of testing examples: 29255\n"
     ]
    }
   ],
   "source": [
    "#80/20 rule spliting \n",
    "training_data, testing_data = train_test_split(df_final, test_size=0.25, random_state=25)\n",
    "\n",
    "print(f\"No. of training examples: {training_data.shape[0]}\")\n",
    "print(f\"No. of testing examples: {testing_data.shape[0]}\")"
   ]
  },
  {
   "cell_type": "code",
   "execution_count": 32,
   "metadata": {},
   "outputs": [
    {
     "data": {
      "text/html": [
       "<div>\n",
       "<style scoped>\n",
       "    .dataframe tbody tr th:only-of-type {\n",
       "        vertical-align: middle;\n",
       "    }\n",
       "\n",
       "    .dataframe tbody tr th {\n",
       "        vertical-align: top;\n",
       "    }\n",
       "\n",
       "    .dataframe thead th {\n",
       "        text-align: right;\n",
       "    }\n",
       "</style>\n",
       "<table border=\"1\" class=\"dataframe\">\n",
       "  <thead>\n",
       "    <tr style=\"text-align: right;\">\n",
       "      <th></th>\n",
       "      <th>price</th>\n",
       "      <th>age</th>\n",
       "      <th>product_type_name_Baby Bib</th>\n",
       "      <th>product_type_name_Backpack</th>\n",
       "      <th>product_type_name_Bag</th>\n",
       "      <th>product_type_name_Ballerinas</th>\n",
       "      <th>product_type_name_Beanie</th>\n",
       "      <th>product_type_name_Belt</th>\n",
       "      <th>product_type_name_Bikini top</th>\n",
       "      <th>product_type_name_Blazer</th>\n",
       "      <th>...</th>\n",
       "      <th>garment_group_name_Skirts</th>\n",
       "      <th>garment_group_name_Socks and Tights</th>\n",
       "      <th>garment_group_name_Special Offers</th>\n",
       "      <th>garment_group_name_Swimwear</th>\n",
       "      <th>garment_group_name_Trousers</th>\n",
       "      <th>garment_group_name_Trousers Denim</th>\n",
       "      <th>garment_group_name_Under-, Nightwear</th>\n",
       "      <th>garment_group_name_Unknown</th>\n",
       "      <th>garment_group_name_Woven/Jersey/Knitted mix Baby</th>\n",
       "      <th>sales_channel_id_2</th>\n",
       "    </tr>\n",
       "  </thead>\n",
       "  <tbody>\n",
       "    <tr>\n",
       "      <th>76533</th>\n",
       "      <td>2.54</td>\n",
       "      <td>26.0</td>\n",
       "      <td>0.0</td>\n",
       "      <td>0.0</td>\n",
       "      <td>0.0</td>\n",
       "      <td>0.0</td>\n",
       "      <td>0.0</td>\n",
       "      <td>0.0</td>\n",
       "      <td>0.0</td>\n",
       "      <td>0.0</td>\n",
       "      <td>...</td>\n",
       "      <td>0.0</td>\n",
       "      <td>0.0</td>\n",
       "      <td>0.0</td>\n",
       "      <td>0.0</td>\n",
       "      <td>0.0</td>\n",
       "      <td>0.0</td>\n",
       "      <td>0.0</td>\n",
       "      <td>0.0</td>\n",
       "      <td>0.0</td>\n",
       "      <td>0.0</td>\n",
       "    </tr>\n",
       "    <tr>\n",
       "      <th>116503</th>\n",
       "      <td>1.35</td>\n",
       "      <td>49.0</td>\n",
       "      <td>0.0</td>\n",
       "      <td>0.0</td>\n",
       "      <td>0.0</td>\n",
       "      <td>0.0</td>\n",
       "      <td>0.0</td>\n",
       "      <td>0.0</td>\n",
       "      <td>0.0</td>\n",
       "      <td>0.0</td>\n",
       "      <td>...</td>\n",
       "      <td>0.0</td>\n",
       "      <td>0.0</td>\n",
       "      <td>0.0</td>\n",
       "      <td>0.0</td>\n",
       "      <td>0.0</td>\n",
       "      <td>0.0</td>\n",
       "      <td>1.0</td>\n",
       "      <td>0.0</td>\n",
       "      <td>0.0</td>\n",
       "      <td>0.0</td>\n",
       "    </tr>\n",
       "    <tr>\n",
       "      <th>109873</th>\n",
       "      <td>3.39</td>\n",
       "      <td>29.0</td>\n",
       "      <td>0.0</td>\n",
       "      <td>0.0</td>\n",
       "      <td>0.0</td>\n",
       "      <td>0.0</td>\n",
       "      <td>0.0</td>\n",
       "      <td>0.0</td>\n",
       "      <td>0.0</td>\n",
       "      <td>0.0</td>\n",
       "      <td>...</td>\n",
       "      <td>0.0</td>\n",
       "      <td>0.0</td>\n",
       "      <td>0.0</td>\n",
       "      <td>0.0</td>\n",
       "      <td>0.0</td>\n",
       "      <td>0.0</td>\n",
       "      <td>0.0</td>\n",
       "      <td>0.0</td>\n",
       "      <td>0.0</td>\n",
       "      <td>0.0</td>\n",
       "    </tr>\n",
       "    <tr>\n",
       "      <th>116165</th>\n",
       "      <td>5.08</td>\n",
       "      <td>21.0</td>\n",
       "      <td>0.0</td>\n",
       "      <td>0.0</td>\n",
       "      <td>0.0</td>\n",
       "      <td>0.0</td>\n",
       "      <td>0.0</td>\n",
       "      <td>0.0</td>\n",
       "      <td>0.0</td>\n",
       "      <td>0.0</td>\n",
       "      <td>...</td>\n",
       "      <td>0.0</td>\n",
       "      <td>0.0</td>\n",
       "      <td>0.0</td>\n",
       "      <td>0.0</td>\n",
       "      <td>0.0</td>\n",
       "      <td>0.0</td>\n",
       "      <td>0.0</td>\n",
       "      <td>0.0</td>\n",
       "      <td>0.0</td>\n",
       "      <td>0.0</td>\n",
       "    </tr>\n",
       "    <tr>\n",
       "      <th>37510</th>\n",
       "      <td>2.03</td>\n",
       "      <td>27.0</td>\n",
       "      <td>0.0</td>\n",
       "      <td>0.0</td>\n",
       "      <td>0.0</td>\n",
       "      <td>0.0</td>\n",
       "      <td>0.0</td>\n",
       "      <td>0.0</td>\n",
       "      <td>0.0</td>\n",
       "      <td>0.0</td>\n",
       "      <td>...</td>\n",
       "      <td>0.0</td>\n",
       "      <td>0.0</td>\n",
       "      <td>0.0</td>\n",
       "      <td>0.0</td>\n",
       "      <td>0.0</td>\n",
       "      <td>0.0</td>\n",
       "      <td>0.0</td>\n",
       "      <td>0.0</td>\n",
       "      <td>0.0</td>\n",
       "      <td>1.0</td>\n",
       "    </tr>\n",
       "  </tbody>\n",
       "</table>\n",
       "<p>5 rows × 424 columns</p>\n",
       "</div>"
      ],
      "text/plain": [
       "        price   age  product_type_name_Baby Bib  product_type_name_Backpack  \\\n",
       "76533    2.54  26.0                         0.0                         0.0   \n",
       "116503   1.35  49.0                         0.0                         0.0   \n",
       "109873   3.39  29.0                         0.0                         0.0   \n",
       "116165   5.08  21.0                         0.0                         0.0   \n",
       "37510    2.03  27.0                         0.0                         0.0   \n",
       "\n",
       "        product_type_name_Bag  product_type_name_Ballerinas  \\\n",
       "76533                     0.0                           0.0   \n",
       "116503                    0.0                           0.0   \n",
       "109873                    0.0                           0.0   \n",
       "116165                    0.0                           0.0   \n",
       "37510                     0.0                           0.0   \n",
       "\n",
       "        product_type_name_Beanie  product_type_name_Belt  \\\n",
       "76533                        0.0                     0.0   \n",
       "116503                       0.0                     0.0   \n",
       "109873                       0.0                     0.0   \n",
       "116165                       0.0                     0.0   \n",
       "37510                        0.0                     0.0   \n",
       "\n",
       "        product_type_name_Bikini top  product_type_name_Blazer  ...  \\\n",
       "76533                            0.0                       0.0  ...   \n",
       "116503                           0.0                       0.0  ...   \n",
       "109873                           0.0                       0.0  ...   \n",
       "116165                           0.0                       0.0  ...   \n",
       "37510                            0.0                       0.0  ...   \n",
       "\n",
       "        garment_group_name_Skirts  garment_group_name_Socks and Tights  \\\n",
       "76533                         0.0                                  0.0   \n",
       "116503                        0.0                                  0.0   \n",
       "109873                        0.0                                  0.0   \n",
       "116165                        0.0                                  0.0   \n",
       "37510                         0.0                                  0.0   \n",
       "\n",
       "        garment_group_name_Special Offers  garment_group_name_Swimwear  \\\n",
       "76533                                 0.0                          0.0   \n",
       "116503                                0.0                          0.0   \n",
       "109873                                0.0                          0.0   \n",
       "116165                                0.0                          0.0   \n",
       "37510                                 0.0                          0.0   \n",
       "\n",
       "        garment_group_name_Trousers  garment_group_name_Trousers Denim  \\\n",
       "76533                           0.0                                0.0   \n",
       "116503                          0.0                                0.0   \n",
       "109873                          0.0                                0.0   \n",
       "116165                          0.0                                0.0   \n",
       "37510                           0.0                                0.0   \n",
       "\n",
       "        garment_group_name_Under-, Nightwear  garment_group_name_Unknown  \\\n",
       "76533                                    0.0                         0.0   \n",
       "116503                                   1.0                         0.0   \n",
       "109873                                   0.0                         0.0   \n",
       "116165                                   0.0                         0.0   \n",
       "37510                                    0.0                         0.0   \n",
       "\n",
       "        garment_group_name_Woven/Jersey/Knitted mix Baby  sales_channel_id_2  \n",
       "76533                                                0.0                 0.0  \n",
       "116503                                               0.0                 0.0  \n",
       "109873                                               0.0                 0.0  \n",
       "116165                                               0.0                 0.0  \n",
       "37510                                                0.0                 1.0  \n",
       "\n",
       "[5 rows x 424 columns]"
      ]
     },
     "execution_count": 32,
     "metadata": {},
     "output_type": "execute_result"
    }
   ],
   "source": [
    "training_data.head()"
   ]
  },
  {
   "cell_type": "code",
   "execution_count": 33,
   "metadata": {},
   "outputs": [],
   "source": [
    "output_location = \"s3://ads508an\"\n",
    "data_location = \"s3://ads508an/transactions_combined.csv\""
   ]
  },
  {
   "cell_type": "code",
   "execution_count": 34,
   "metadata": {
    "scrolled": true
   },
   "outputs": [
    {
     "name": "stderr",
     "output_type": "stream",
     "text": [
      "train_instance_count has been renamed in sagemaker>=2.\n",
      "See: https://sagemaker.readthedocs.io/en/stable/v2.html for details.\n",
      "train_instance_type has been renamed in sagemaker>=2.\n",
      "See: https://sagemaker.readthedocs.io/en/stable/v2.html for details.\n"
     ]
    },
    {
     "name": "stdout",
     "output_type": "stream",
     "text": [
      "training data will be uploaded to: s3://sagemaker-us-east-1-996685578635/kmeans_highlevel_example/data\n",
      "training artifacts will be uploaded to: s3://sagemaker-us-east-1-996685578635/kmeans_example/output\n"
     ]
    }
   ],
   "source": [
    "#K-Means Model\n",
    "from sagemaker import KMeans\n",
    "\n",
    "data_location = 's3://{}/kmeans_highlevel_example/data'.format(bucket)\n",
    "output_location = 's3://{}/kmeans_example/output'.format(bucket)\n",
    "\n",
    "print('training data will be uploaded to: {}'.format(data_location))\n",
    "print('training artifacts will be uploaded to: {}'.format(output_location))\n",
    "\n",
    "kmeans = KMeans(role=role,\n",
    "                train_instance_count=1,\n",
    "                train_instance_type='ml.m4.xlarge',\n",
    "                output_path=output_location,\n",
    "                k=3,#use elbow curve instead if you want\n",
    "                data_location=data_location)"
   ]
  },
  {
   "cell_type": "code",
   "execution_count": 35,
   "metadata": {},
   "outputs": [],
   "source": [
    "#Changed into float format\n",
    "train_data=training_data.values.astype('float32')"
   ]
  },
  {
   "cell_type": "code",
   "execution_count": 36,
   "metadata": {},
   "outputs": [
    {
     "name": "stderr",
     "output_type": "stream",
     "text": [
      "Defaulting to the only supported framework/algorithm version: 1. Ignoring framework/algorithm version: 1.\n",
      "Defaulting to the only supported framework/algorithm version: 1. Ignoring framework/algorithm version: 1.\n"
     ]
    },
    {
     "name": "stdout",
     "output_type": "stream",
     "text": [
      "2022-04-04 22:58:13 Starting - Starting the training job...ProfilerReport-1649113092: InProgress\n",
      "...\n",
      "2022-04-04 22:58:57 Starting - Preparing the instances for training.........\n",
      "2022-04-04 23:00:37 Downloading - Downloading input data...\n",
      "2022-04-04 23:01:00 Training - Downloading the training image.....\u001b[34mDocker entrypoint called with argument(s): train\u001b[0m\n",
      "\u001b[34mRunning default environment configuration script\u001b[0m\n",
      "\u001b[34m[04/04/2022 23:02:00 INFO 139973363595072] Reading default configuration from /opt/amazon/lib/python3.7/site-packages/algorithm/resources/default-input.json: {'init_method': 'random', 'mini_batch_size': '5000', 'epochs': '1', 'extra_center_factor': 'auto', 'local_lloyd_max_iter': '300', 'local_lloyd_tol': '0.0001', 'local_lloyd_init_method': 'kmeans++', 'local_lloyd_num_trials': 'auto', 'half_life_time_size': '0', 'eval_metrics': '[\"msd\"]', 'force_dense': 'true', '_disable_wait_to_read': 'false', '_enable_profiler': 'false', '_kvstore': 'auto', '_log_level': 'info', '_num_gpus': 'auto', '_num_kv_servers': '1', '_num_slices': '1', '_tuning_objective_metric': ''}\u001b[0m\n",
      "\u001b[34m[04/04/2022 23:02:00 INFO 139973363595072] Merging with provided configuration from /opt/ml/input/config/hyperparameters.json: {'feature_dim': '424', 'force_dense': 'True', 'k': '3'}\u001b[0m\n",
      "\u001b[34m[04/04/2022 23:02:00 INFO 139973363595072] Final configuration: {'init_method': 'random', 'mini_batch_size': '5000', 'epochs': '1', 'extra_center_factor': 'auto', 'local_lloyd_max_iter': '300', 'local_lloyd_tol': '0.0001', 'local_lloyd_init_method': 'kmeans++', 'local_lloyd_num_trials': 'auto', 'half_life_time_size': '0', 'eval_metrics': '[\"msd\"]', 'force_dense': 'True', '_disable_wait_to_read': 'false', '_enable_profiler': 'false', '_kvstore': 'auto', '_log_level': 'info', '_num_gpus': 'auto', '_num_kv_servers': '1', '_num_slices': '1', '_tuning_objective_metric': '', 'feature_dim': '424', 'k': '3'}\u001b[0m\n",
      "\n",
      "2022-04-04 23:02:11 Uploading - Uploading generated training model\u001b[34m[04/04/2022 23:02:03 WARNING 139973363595072] Loggers have already been setup.\u001b[0m\n",
      "\u001b[34m[04/04/2022 23:02:03 INFO 139973363595072 integration.py:636] worker started\u001b[0m\n",
      "\u001b[34m[04/04/2022 23:02:03 INFO 139973363595072] Final configuration: {'init_method': 'random', 'mini_batch_size': '5000', 'epochs': '1', 'extra_center_factor': 'auto', 'local_lloyd_max_iter': '300', 'local_lloyd_tol': '0.0001', 'local_lloyd_init_method': 'kmeans++', 'local_lloyd_num_trials': 'auto', 'half_life_time_size': '0', 'eval_metrics': '[\"msd\"]', 'force_dense': 'True', '_disable_wait_to_read': 'false', '_enable_profiler': 'false', '_kvstore': 'auto', '_log_level': 'info', '_num_gpus': 'auto', '_num_kv_servers': '1', '_num_slices': '1', '_tuning_objective_metric': '', 'feature_dim': '424', 'k': '3'}\u001b[0m\n",
      "\u001b[34m[04/04/2022 23:02:03 WARNING 139973363595072] Loggers have already been setup.\u001b[0m\n",
      "\u001b[34mProcess 1 is a worker.\u001b[0m\n",
      "\u001b[34m[04/04/2022 23:02:03 INFO 139973363595072] Using default worker.\u001b[0m\n",
      "\u001b[34m[04/04/2022 23:02:03 INFO 139973363595072] Loaded iterator creator application/x-recordio-protobuf for content type ('application/x-recordio-protobuf', '1.0')\u001b[0m\n",
      "\u001b[34m[04/04/2022 23:02:03 INFO 139973363595072] Create Store: local\u001b[0m\n",
      "\u001b[34m[04/04/2022 23:02:03 INFO 139973363595072] nvidia-smi: took 0.033 seconds to run.\u001b[0m\n",
      "\u001b[34m[04/04/2022 23:02:03 INFO 139973363595072] nvidia-smi identified 0 GPUs.\u001b[0m\n",
      "\u001b[34m[04/04/2022 23:02:03 INFO 139973363595072] Number of GPUs being used: 0\u001b[0m\n",
      "\u001b[34m[04/04/2022 23:02:03 INFO 139973363595072] Checkpoint loading and saving are disabled.\u001b[0m\n",
      "\u001b[34m[04/04/2022 23:02:03 INFO 139973363595072] Setting up with params: {'init_method': 'random', 'mini_batch_size': '5000', 'epochs': '1', 'extra_center_factor': 'auto', 'local_lloyd_max_iter': '300', 'local_lloyd_tol': '0.0001', 'local_lloyd_init_method': 'kmeans++', 'local_lloyd_num_trials': 'auto', 'half_life_time_size': '0', 'eval_metrics': '[\"msd\"]', 'force_dense': 'True', '_disable_wait_to_read': 'false', '_enable_profiler': 'false', '_kvstore': 'auto', '_log_level': 'info', '_num_gpus': 'auto', '_num_kv_servers': '1', '_num_slices': '1', '_tuning_objective_metric': '', 'feature_dim': '424', 'k': '3'}\u001b[0m\n",
      "\u001b[34m[04/04/2022 23:02:03 INFO 139973363595072] 'extra_center_factor' was set to 'auto', evaluated to 10.\u001b[0m\n",
      "\u001b[34m[04/04/2022 23:02:03 INFO 139973363595072] Number of GPUs being used: 0\u001b[0m\n",
      "\u001b[34m[04/04/2022 23:02:03 INFO 139973363595072] number of center slices 1\u001b[0m\n",
      "\u001b[34m#metrics {\"StartTime\": 1649113323.2070897, \"EndTime\": 1649113323.2071416, \"Dimensions\": {\"Algorithm\": \"AWS/KMeansWebscale\", \"Host\": \"algo-1\", \"Operation\": \"training\", \"Meta\": \"init_train_data_iter\"}, \"Metrics\": {\"Total Records Seen\": {\"sum\": 5000.0, \"count\": 1, \"min\": 5000, \"max\": 5000}, \"Total Batches Seen\": {\"sum\": 1.0, \"count\": 1, \"min\": 1, \"max\": 1}, \"Max Records Seen Between Resets\": {\"sum\": 5000.0, \"count\": 1, \"min\": 5000, \"max\": 5000}, \"Max Batches Seen Between Resets\": {\"sum\": 1.0, \"count\": 1, \"min\": 1, \"max\": 1}, \"Reset Count\": {\"sum\": 0.0, \"count\": 1, \"min\": 0, \"max\": 0}, \"Number of Records Since Last Reset\": {\"sum\": 5000.0, \"count\": 1, \"min\": 5000, \"max\": 5000}, \"Number of Batches Since Last Reset\": {\"sum\": 1.0, \"count\": 1, \"min\": 1, \"max\": 1}}}\u001b[0m\n",
      "\u001b[34m[2022-04-04 23:02:03.225] [tensorio] [info] epoch_stats={\"data_pipeline\": \"/opt/ml/input/data/train\", \"epoch\": 0, \"duration\": 115, \"num_examples\": 1, \"num_bytes\": 8620000}\u001b[0m\n",
      "\u001b[34m[04/04/2022 23:02:03 INFO 139973363595072] Iter 10: Short term msd 7.251963. Long term msd 7.611172\u001b[0m\n",
      "\u001b[34m[2022-04-04 23:02:03.967] [tensorio] [info] epoch_stats={\"data_pipeline\": \"/opt/ml/input/data/train\", \"epoch\": 1, \"duration\": 741, \"num_examples\": 18, \"num_bytes\": 151306860}\u001b[0m\n",
      "\u001b[34m[04/04/2022 23:02:03 INFO 139973363595072] processed a total of 87765 examples\u001b[0m\n",
      "\u001b[34m[04/04/2022 23:02:03 INFO 139973363595072] #progress_metric: host=algo-1, completed 100.0 % of epochs\u001b[0m\n",
      "\u001b[34m#metrics {\"StartTime\": 1649113323.2253942, \"EndTime\": 1649113323.9679341, \"Dimensions\": {\"Algorithm\": \"AWS/KMeansWebscale\", \"Host\": \"algo-1\", \"Operation\": \"training\", \"epoch\": 0, \"Meta\": \"training_data_iter\"}, \"Metrics\": {\"Total Records Seen\": {\"sum\": 92765.0, \"count\": 1, \"min\": 92765, \"max\": 92765}, \"Total Batches Seen\": {\"sum\": 19.0, \"count\": 1, \"min\": 19, \"max\": 19}, \"Max Records Seen Between Resets\": {\"sum\": 87765.0, \"count\": 1, \"min\": 87765, \"max\": 87765}, \"Max Batches Seen Between Resets\": {\"sum\": 18.0, \"count\": 1, \"min\": 18, \"max\": 18}, \"Reset Count\": {\"sum\": 1.0, \"count\": 1, \"min\": 1, \"max\": 1}, \"Number of Records Since Last Reset\": {\"sum\": 87765.0, \"count\": 1, \"min\": 87765, \"max\": 87765}, \"Number of Batches Since Last Reset\": {\"sum\": 18.0, \"count\": 1, \"min\": 18, \"max\": 18}}}\u001b[0m\n",
      "\u001b[34m[04/04/2022 23:02:03 INFO 139973363595072] #throughput_metric: host=algo-1, train throughput=118167.67032103484 records/second\u001b[0m\n",
      "\u001b[34m[04/04/2022 23:02:03 WARNING 139973363595072] wait_for_all_workers will not sync workers since the kv store is not running distributed\u001b[0m\n",
      "\u001b[34m[04/04/2022 23:02:03 INFO 139973363595072] shrinking 30 centers into 3\u001b[0m\n",
      "\u001b[34m[04/04/2022 23:02:04 INFO 139973363595072] local kmeans attempt #0. Current mean square distance 22.126312\u001b[0m\n",
      "\u001b[34m[04/04/2022 23:02:04 INFO 139973363595072] local kmeans attempt #1. Current mean square distance 24.185497\u001b[0m\n",
      "\u001b[34m[04/04/2022 23:02:04 INFO 139973363595072] local kmeans attempt #2. Current mean square distance 21.778324\u001b[0m\n",
      "\u001b[34m[04/04/2022 23:02:04 INFO 139973363595072] local kmeans attempt #3. Current mean square distance 22.416603\u001b[0m\n",
      "\u001b[34m[04/04/2022 23:02:04 INFO 139973363595072] local kmeans attempt #4. Current mean square distance 22.494137\u001b[0m\n",
      "\u001b[34m[04/04/2022 23:02:04 INFO 139973363595072] local kmeans attempt #5. Current mean square distance 21.778324\u001b[0m\n",
      "\u001b[34m[04/04/2022 23:02:04 INFO 139973363595072] local kmeans attempt #6. Current mean square distance 22.407125\u001b[0m\n",
      "\u001b[34m[04/04/2022 23:02:04 INFO 139973363595072] local kmeans attempt #7. Current mean square distance 21.778324\u001b[0m\n",
      "\u001b[34m[04/04/2022 23:02:04 INFO 139973363595072] local kmeans attempt #8. Current mean square distance 22.416603\u001b[0m\n",
      "\u001b[34m[04/04/2022 23:02:04 INFO 139973363595072] local kmeans attempt #9. Current mean square distance 24.185497\u001b[0m\n",
      "\u001b[34m[04/04/2022 23:02:04 INFO 139973363595072] finished shrinking process. Mean Square Distance = 22\u001b[0m\n",
      "\u001b[34m[04/04/2022 23:02:04 INFO 139973363595072] #quality_metric: host=algo-1, train msd <loss>=21.778324127197266\u001b[0m\n",
      "\u001b[34m[04/04/2022 23:02:04 INFO 139973363595072] compute all data-center distances: point norm took: 45.7039%, (0.345022 secs)\u001b[0m\n",
      "\u001b[34m[04/04/2022 23:02:04 INFO 139973363595072] compute all data-center distances: inner product took: 13.7357%, (0.103692 secs)\u001b[0m\n",
      "\u001b[34m[04/04/2022 23:02:04 INFO 139973363595072] gradient: cluster center took: 11.6966%, (0.088298 secs)\u001b[0m\n",
      "\u001b[34m[04/04/2022 23:02:04 INFO 139973363595072] batch data loading with context took: 8.8541%, (0.066840 secs)\u001b[0m\n",
      "\u001b[34m[04/04/2022 23:02:04 INFO 139973363595072] predict compute msd took: 6.3428%, (0.047882 secs)\u001b[0m\n",
      "\u001b[34m[04/04/2022 23:02:04 INFO 139973363595072] gradient: cluster size  took: 3.5010%, (0.026429 secs)\u001b[0m\n",
      "\u001b[34m[04/04/2022 23:02:04 INFO 139973363595072] collect from kv store took: 3.2667%, (0.024661 secs)\u001b[0m\n",
      "\u001b[34m[04/04/2022 23:02:04 INFO 139973363595072] splitting centers key-value pair took: 2.7790%, (0.020979 secs)\u001b[0m\n",
      "\u001b[34m[04/04/2022 23:02:04 INFO 139973363595072] update state and report convergance took: 1.7927%, (0.013533 secs)\u001b[0m\n",
      "\u001b[34m[04/04/2022 23:02:04 INFO 139973363595072] gradient: one_hot took: 1.1512%, (0.008690 secs)\u001b[0m\n",
      "\u001b[34m[04/04/2022 23:02:04 INFO 139973363595072] compute all data-center distances: center norm took: 1.0527%, (0.007947 secs)\u001b[0m\n",
      "\u001b[34m[04/04/2022 23:02:04 INFO 139973363595072] predict minus dist took: 0.0800%, (0.000604 secs)\u001b[0m\n",
      "\u001b[34m[04/04/2022 23:02:04 INFO 139973363595072] update set-up time took: 0.0436%, (0.000329 secs)\u001b[0m\n",
      "\u001b[34m[04/04/2022 23:02:04 INFO 139973363595072] TOTAL took: 0.754906415939331\u001b[0m\n",
      "\u001b[34m[04/04/2022 23:02:04 INFO 139973363595072] Number of GPUs being used: 0\u001b[0m\n",
      "\u001b[34m#metrics {\"StartTime\": 1649113323.1088026, \"EndTime\": 1649113324.2481413, \"Dimensions\": {\"Algorithm\": \"AWS/KMeansWebscale\", \"Host\": \"algo-1\", \"Operation\": \"training\"}, \"Metrics\": {\"initialize.time\": {\"sum\": 61.91110610961914, \"count\": 1, \"min\": 61.91110610961914, \"max\": 61.91110610961914}, \"epochs\": {\"sum\": 1.0, \"count\": 1, \"min\": 1, \"max\": 1}, \"update.time\": {\"sum\": 742.2821521759033, \"count\": 1, \"min\": 742.2821521759033, \"max\": 742.2821521759033}, \"_shrink.time\": {\"sum\": 272.86410331726074, \"count\": 1, \"min\": 272.86410331726074, \"max\": 272.86410331726074}, \"finalize.time\": {\"sum\": 276.14712715148926, \"count\": 1, \"min\": 276.14712715148926, \"max\": 276.14712715148926}, \"model.serialize.time\": {\"sum\": 3.629922866821289, \"count\": 1, \"min\": 3.629922866821289, \"max\": 3.629922866821289}}}\u001b[0m\n",
      "\u001b[34m[04/04/2022 23:02:04 INFO 139973363595072] Test data is not provided.\u001b[0m\n",
      "\u001b[34m#metrics {\"StartTime\": 1649113324.2482972, \"EndTime\": 1649113324.2591054, \"Dimensions\": {\"Algorithm\": \"AWS/KMeansWebscale\", \"Host\": \"algo-1\", \"Operation\": \"training\"}, \"Metrics\": {\"setuptime\": {\"sum\": 3.548860549926758, \"count\": 1, \"min\": 3.548860549926758, \"max\": 3.548860549926758}, \"totaltime\": {\"sum\": 1210.7255458831787, \"count\": 1, \"min\": 1210.7255458831787, \"max\": 1210.7255458831787}}}\u001b[0m\n",
      "\u001b[34m[04/04/2022 23:02:04 INFO 139973363595072 integration.py:636] worker closed\u001b[0m\n",
      "\n",
      "2022-04-04 23:02:38 Completed - Training job completed\n",
      "ProfilerReport-1649113092: NoIssuesFound\n",
      "Training seconds: 113\n",
      "Billable seconds: 113\n"
     ]
    }
   ],
   "source": [
    "#Model building stage with train data\n",
    "kmeans.fit(kmeans.record_set(train_data))"
   ]
  },
  {
   "cell_type": "markdown",
   "metadata": {},
   "source": [
    "# Training"
   ]
  },
  {
   "cell_type": "markdown",
   "metadata": {},
   "source": [
    "## Deployment"
   ]
  },
  {
   "cell_type": "code",
   "execution_count": 37,
   "metadata": {},
   "outputs": [
    {
     "name": "stderr",
     "output_type": "stream",
     "text": [
      "Defaulting to the only supported framework/algorithm version: 1. Ignoring framework/algorithm version: 1.\n"
     ]
    },
    {
     "name": "stdout",
     "output_type": "stream",
     "text": [
      "-----------!"
     ]
    }
   ],
   "source": [
    "# t2.medium is the lowest possible instance for deployment.\n",
    "predictor=kmeans.deploy(initial_instance_count=1,instance_type='ml.t2.medium')"
   ]
  },
  {
   "cell_type": "code",
   "execution_count": 38,
   "metadata": {},
   "outputs": [],
   "source": [
    "#We have chosen a fraction of the testing data since our deployed instance was not heavy enough to handle all data. \n",
    "testing_sample=testing_data.sample(frac=0.01)"
   ]
  },
  {
   "cell_type": "code",
   "execution_count": 39,
   "metadata": {},
   "outputs": [],
   "source": [
    "#Converting sample into float\n",
    "test_sample=testing_sample.values.astype('float32')"
   ]
  },
  {
   "cell_type": "code",
   "execution_count": 40,
   "metadata": {},
   "outputs": [],
   "source": [
    "#Making prediction on the test data\n",
    "results=predictor.predict(test_sample)"
   ]
  },
  {
   "cell_type": "code",
   "execution_count": 41,
   "metadata": {},
   "outputs": [],
   "source": [
    "#unpacking the json payload\n",
    "cluster_labels = [r.label[\"closest_cluster\"].float32_tensor.values[0] for r in results]"
   ]
  },
  {
   "cell_type": "code",
   "execution_count": 42,
   "metadata": {},
   "outputs": [
    {
     "data": {
      "text/plain": [
       "0.0    164\n",
       "1.0     88\n",
       "2.0     41\n",
       "Name: 0, dtype: int64"
      ]
     },
     "execution_count": 42,
     "metadata": {},
     "output_type": "execute_result"
    }
   ],
   "source": [
    "#Value count of the Kmeans clusters data points\n",
    "pd.DataFrame(cluster_labels)[0].value_counts()"
   ]
  },
  {
   "cell_type": "code",
   "execution_count": 43,
   "metadata": {},
   "outputs": [
    {
     "data": {
      "image/png": "[encoded data removed]",
      "text/plain": [
       "<Figure size 432x216 with 1 Axes>"
      ]
     },
     "metadata": {
      "needs_background": "light"
     },
     "output_type": "display_data"
    }
   ],
   "source": [
    "#Visualzation of Clusters\n",
    "ax = plt.subplots(figsize=(6, 3))\n",
    "ax = sns.distplot(cluster_labels, kde=False)\n",
    "title = \"Histogram of Cluster Counts\"\n",
    "ax.set_title(title, fontsize=12)\n",
    "plt.show()"
   ]
  },
  {
   "cell_type": "code",
   "execution_count": 44,
   "metadata": {},
   "outputs": [],
   "source": [
    "#because there are many dimenions 400 it is impossible to visualize in pair plot unless we bring\n",
    "#down the number of dimenions to at least 3 by using PCA method. One more option is to visualise 2 dimesions at a time. For example, visalise price against age."
   ]
  },
  {
   "cell_type": "markdown",
   "metadata": {},
   "source": [
    "# Model evaluation"
   ]
  },
  {
   "cell_type": "code",
   "execution_count": 45,
   "metadata": {},
   "outputs": [],
   "source": [
    "from sklearn.metrics import silhouette_score\n",
    "score = silhouette_score(test_sample, cluster_labels, metric='euclidean')"
   ]
  },
  {
   "cell_type": "code",
   "execution_count": 46,
   "metadata": {},
   "outputs": [
    {
     "data": {
      "text/plain": [
       "0.5371883"
      ]
     },
     "execution_count": 46,
     "metadata": {},
     "output_type": "execute_result"
    }
   ],
   "source": [
    "#Score ranges between 0 to 1. where 1 is perfect and 0 is worst.\n",
    "score"
   ]
  },
  {
   "cell_type": "markdown",
   "metadata": {},
   "source": [
    "# Generating never before seen data"
   ]
  },
  {
   "cell_type": "code",
   "execution_count": 47,
   "metadata": {},
   "outputs": [
    {
     "data": {
      "text/html": [
       "<div>\n",
       "<style scoped>\n",
       "    .dataframe tbody tr th:only-of-type {\n",
       "        vertical-align: middle;\n",
       "    }\n",
       "\n",
       "    .dataframe tbody tr th {\n",
       "        vertical-align: top;\n",
       "    }\n",
       "\n",
       "    .dataframe thead th {\n",
       "        text-align: right;\n",
       "    }\n",
       "</style>\n",
       "<table border=\"1\" class=\"dataframe\">\n",
       "  <thead>\n",
       "    <tr style=\"text-align: right;\">\n",
       "      <th></th>\n",
       "      <th>t_dat</th>\n",
       "      <th>customer_id</th>\n",
       "      <th>article_id</th>\n",
       "      <th>price</th>\n",
       "      <th>sales_channel_id</th>\n",
       "      <th>product_code</th>\n",
       "      <th>prod_name</th>\n",
       "      <th>product_type_no</th>\n",
       "      <th>product_type_name</th>\n",
       "      <th>product_group_name</th>\n",
       "      <th>...</th>\n",
       "      <th>section_name</th>\n",
       "      <th>garment_group_no</th>\n",
       "      <th>garment_group_name</th>\n",
       "      <th>detail_desc</th>\n",
       "      <th>FN</th>\n",
       "      <th>Active</th>\n",
       "      <th>club_member_status</th>\n",
       "      <th>fashion_news_frequency</th>\n",
       "      <th>age</th>\n",
       "      <th>postal_code</th>\n",
       "    </tr>\n",
       "  </thead>\n",
       "  <tbody>\n",
       "    <tr>\n",
       "      <th>0</th>\n",
       "      <td>7/26/19</td>\n",
       "      <td>f130606dcf9f69da0c23d61a21957f88c19debf15d7e0f...</td>\n",
       "      <td>object</td>\n",
       "      <td>0.51</td>\n",
       "      <td>1</td>\n",
       "      <td>object</td>\n",
       "      <td>Maria Shorts.</td>\n",
       "      <td>object</td>\n",
       "      <td>Shorts</td>\n",
       "      <td>Garment Lower body</td>\n",
       "      <td>...</td>\n",
       "      <td>Divided Basics</td>\n",
       "      <td>object</td>\n",
       "      <td>Jersey Basic</td>\n",
       "      <td>Short shorts in lightweight sweatshirt fabric ...</td>\n",
       "      <td>category</td>\n",
       "      <td>category</td>\n",
       "      <td>category</td>\n",
       "      <td>category</td>\n",
       "      <td>20.0</td>\n",
       "      <td>5fb9d1e1aa0193a227da2d0d1531c2851777dbd9f6b8b8...</td>\n",
       "    </tr>\n",
       "  </tbody>\n",
       "</table>\n",
       "<p>1 rows × 35 columns</p>\n",
       "</div>"
      ],
      "text/plain": [
       "     t_dat                                        customer_id article_id  \\\n",
       "0  7/26/19  f130606dcf9f69da0c23d61a21957f88c19debf15d7e0f...     object   \n",
       "\n",
       "   price  sales_channel_id product_code      prod_name product_type_no  \\\n",
       "0   0.51                 1       object  Maria Shorts.          object   \n",
       "\n",
       "  product_type_name  product_group_name  ...    section_name garment_group_no  \\\n",
       "0            Shorts  Garment Lower body  ...  Divided Basics           object   \n",
       "\n",
       "  garment_group_name                                        detail_desc  \\\n",
       "0       Jersey Basic  Short shorts in lightweight sweatshirt fabric ...   \n",
       "\n",
       "         FN    Active club_member_status fashion_news_frequency   age  \\\n",
       "0  category  category           category               category  20.0   \n",
       "\n",
       "                                         postal_code  \n",
       "0  5fb9d1e1aa0193a227da2d0d1531c2851777dbd9f6b8b8...  \n",
       "\n",
       "[1 rows x 35 columns]"
      ]
     },
     "execution_count": 47,
     "metadata": {},
     "output_type": "execute_result"
    }
   ],
   "source": [
    "df_dummy=df_transact.iloc[0:1]\n",
    "df_dummy.head()"
   ]
  },
  {
   "cell_type": "code",
   "execution_count": 48,
   "metadata": {},
   "outputs": [
    {
     "name": "stderr",
     "output_type": "stream",
     "text": [
      "/opt/conda/lib/python3.7/site-packages/ipykernel_launcher.py:1: SettingWithCopyWarning: \n",
      "A value is trying to be set on a copy of a slice from a DataFrame.\n",
      "Try using .loc[row_indexer,col_indexer] = value instead\n",
      "\n",
      "See the caveats in the documentation: https://pandas.pydata.org/pandas-docs/stable/user_guide/indexing.html#returning-a-view-versus-a-copy\n",
      "  \"\"\"Entry point for launching an IPython kernel.\n",
      "/opt/conda/lib/python3.7/site-packages/ipykernel_launcher.py:2: SettingWithCopyWarning: \n",
      "A value is trying to be set on a copy of a slice from a DataFrame.\n",
      "Try using .loc[row_indexer,col_indexer] = value instead\n",
      "\n",
      "See the caveats in the documentation: https://pandas.pydata.org/pandas-docs/stable/user_guide/indexing.html#returning-a-view-versus-a-copy\n",
      "  \n",
      "/opt/conda/lib/python3.7/site-packages/ipykernel_launcher.py:3: SettingWithCopyWarning: \n",
      "A value is trying to be set on a copy of a slice from a DataFrame.\n",
      "Try using .loc[row_indexer,col_indexer] = value instead\n",
      "\n",
      "See the caveats in the documentation: https://pandas.pydata.org/pandas-docs/stable/user_guide/indexing.html#returning-a-view-versus-a-copy\n",
      "  This is separate from the ipykernel package so we can avoid doing imports until\n",
      "/opt/conda/lib/python3.7/site-packages/ipykernel_launcher.py:4: SettingWithCopyWarning: \n",
      "A value is trying to be set on a copy of a slice from a DataFrame.\n",
      "Try using .loc[row_indexer,col_indexer] = value instead\n",
      "\n",
      "See the caveats in the documentation: https://pandas.pydata.org/pandas-docs/stable/user_guide/indexing.html#returning-a-view-versus-a-copy\n",
      "  after removing the cwd from sys.path.\n"
     ]
    },
    {
     "data": {
      "text/html": [
       "<div>\n",
       "<style scoped>\n",
       "    .dataframe tbody tr th:only-of-type {\n",
       "        vertical-align: middle;\n",
       "    }\n",
       "\n",
       "    .dataframe tbody tr th {\n",
       "        vertical-align: top;\n",
       "    }\n",
       "\n",
       "    .dataframe thead th {\n",
       "        text-align: right;\n",
       "    }\n",
       "</style>\n",
       "<table border=\"1\" class=\"dataframe\">\n",
       "  <thead>\n",
       "    <tr style=\"text-align: right;\">\n",
       "      <th></th>\n",
       "      <th>t_dat</th>\n",
       "      <th>customer_id</th>\n",
       "      <th>article_id</th>\n",
       "      <th>price</th>\n",
       "      <th>sales_channel_id</th>\n",
       "      <th>product_code</th>\n",
       "      <th>prod_name</th>\n",
       "      <th>product_type_no</th>\n",
       "      <th>product_type_name</th>\n",
       "      <th>product_group_name</th>\n",
       "      <th>...</th>\n",
       "      <th>section_name</th>\n",
       "      <th>garment_group_no</th>\n",
       "      <th>garment_group_name</th>\n",
       "      <th>detail_desc</th>\n",
       "      <th>FN</th>\n",
       "      <th>Active</th>\n",
       "      <th>club_member_status</th>\n",
       "      <th>fashion_news_frequency</th>\n",
       "      <th>age</th>\n",
       "      <th>postal_code</th>\n",
       "    </tr>\n",
       "  </thead>\n",
       "  <tbody>\n",
       "    <tr>\n",
       "      <th>0</th>\n",
       "      <td>7/26/19</td>\n",
       "      <td>f130606dcf9f69da0c23d61a21957f88c19debf15d7e0f...</td>\n",
       "      <td>object</td>\n",
       "      <td>0.63</td>\n",
       "      <td>1</td>\n",
       "      <td>object</td>\n",
       "      <td>Maria Shorts.</td>\n",
       "      <td>object</td>\n",
       "      <td>Top</td>\n",
       "      <td>Garment Lower body</td>\n",
       "      <td>...</td>\n",
       "      <td>Divided Basics</td>\n",
       "      <td>object</td>\n",
       "      <td>Outdoor</td>\n",
       "      <td>Short shorts in lightweight sweatshirt fabric ...</td>\n",
       "      <td>category</td>\n",
       "      <td>category</td>\n",
       "      <td>category</td>\n",
       "      <td>category</td>\n",
       "      <td>25.0</td>\n",
       "      <td>5fb9d1e1aa0193a227da2d0d1531c2851777dbd9f6b8b8...</td>\n",
       "    </tr>\n",
       "  </tbody>\n",
       "</table>\n",
       "<p>1 rows × 35 columns</p>\n",
       "</div>"
      ],
      "text/plain": [
       "     t_dat                                        customer_id article_id  \\\n",
       "0  7/26/19  f130606dcf9f69da0c23d61a21957f88c19debf15d7e0f...     object   \n",
       "\n",
       "   price  sales_channel_id product_code      prod_name product_type_no  \\\n",
       "0   0.63                 1       object  Maria Shorts.          object   \n",
       "\n",
       "  product_type_name  product_group_name  ...    section_name garment_group_no  \\\n",
       "0               Top  Garment Lower body  ...  Divided Basics           object   \n",
       "\n",
       "  garment_group_name                                        detail_desc  \\\n",
       "0            Outdoor  Short shorts in lightweight sweatshirt fabric ...   \n",
       "\n",
       "         FN    Active club_member_status fashion_news_frequency   age  \\\n",
       "0  category  category           category               category  25.0   \n",
       "\n",
       "                                         postal_code  \n",
       "0  5fb9d1e1aa0193a227da2d0d1531c2851777dbd9f6b8b8...  \n",
       "\n",
       "[1 rows x 35 columns]"
      ]
     },
     "execution_count": 48,
     "metadata": {},
     "output_type": "execute_result"
    }
   ],
   "source": [
    "df_dummy['price']=0.63\n",
    "df_dummy['garment_group_name']='Outdoor'\n",
    "df_dummy['product_type_name']='Top'\n",
    "df_dummy['age']=25.0\n",
    "df_dummy.head()"
   ]
  },
  {
   "cell_type": "code",
   "execution_count": 49,
   "metadata": {},
   "outputs": [],
   "source": [
    "categorical_vars =['product_type_name','club_member_status','department_name','section_name','Active','garment_group_name','sales_channel_id']"
   ]
  },
  {
   "cell_type": "code",
   "execution_count": 50,
   "metadata": {},
   "outputs": [],
   "source": [
    "#The new dataframe is : df_test_under Use this !\n",
    "encoder_vars_array = OHE.transform(df_dummy[categorical_vars])"
   ]
  },
  {
   "cell_type": "code",
   "execution_count": 51,
   "metadata": {},
   "outputs": [],
   "source": [
    "encoder_feature_names = one_hot_encoder.get_feature_names(categorical_vars)"
   ]
  },
  {
   "cell_type": "code",
   "execution_count": 52,
   "metadata": {},
   "outputs": [],
   "source": [
    "df_categorical=pd.DataFrame(encoder_vars_array,columns = encoder_feature_names)"
   ]
  },
  {
   "cell_type": "code",
   "execution_count": 53,
   "metadata": {},
   "outputs": [],
   "source": [
    "numeric_vars=['price','age']\n",
    "df_numeric=df_dummy[numeric_vars]"
   ]
  },
  {
   "cell_type": "code",
   "execution_count": 54,
   "metadata": {},
   "outputs": [],
   "source": [
    "df_dummyfinal = pd.concat([df_numeric.reset_index(drop=True), df_categorical.reset_index(drop=True)], axis = 1)"
   ]
  },
  {
   "cell_type": "code",
   "execution_count": 55,
   "metadata": {},
   "outputs": [],
   "source": [
    "#Converting sample into float\n",
    "test_sample=df_dummyfinal.values.astype('float32')"
   ]
  },
  {
   "cell_type": "code",
   "execution_count": 56,
   "metadata": {},
   "outputs": [],
   "source": [
    "#Making prediction on the test data\n",
    "results=predictor.predict(test_sample)"
   ]
  },
  {
   "cell_type": "code",
   "execution_count": 57,
   "metadata": {},
   "outputs": [],
   "source": [
    "#unpacking the json payload\n",
    "cluster_labels = [r.label[\"closest_cluster\"].float32_tensor.values[0] for r in results]"
   ]
  },
  {
   "cell_type": "code",
   "execution_count": 58,
   "metadata": {},
   "outputs": [
    {
     "data": {
      "text/plain": [
       "0.0    1\n",
       "Name: 0, dtype: int64"
      ]
     },
     "execution_count": 58,
     "metadata": {},
     "output_type": "execute_result"
    }
   ],
   "source": [
    "#Value count of the Kmeans clusters data points\n",
    "pd.DataFrame(cluster_labels)[0].value_counts()"
   ]
  },
  {
   "cell_type": "code",
   "execution_count": 59,
   "metadata": {},
   "outputs": [
    {
     "data": {
      "image/png": "[encoded data removed]",
      "text/plain": [
       "<Figure size 432x216 with 1 Axes>"
      ]
     },
     "metadata": {
      "needs_background": "light"
     },
     "output_type": "display_data"
    }
   ],
   "source": [
    "#Visualzation of Clusters\n",
    "ax = plt.subplots(figsize=(6, 3))\n",
    "ax = sns.distplot(cluster_labels, kde=False)\n",
    "title = \"Histogram of Cluster Counts\"\n",
    "ax.set_title(title, fontsize=12)\n",
    "plt.show()"
   ]
  }
 ],
 "metadata": {
  "instance_type": "ml.t3.medium",
  "kernelspec": {
   "display_name": "Python 3 (Data Science)",
   "language": "python",
   "name": "python3__SAGEMAKER_INTERNAL__arn:aws:sagemaker:us-east-1:081325390199:image/datascience-1.0"
  },
  "language_info": {
   "codemirror_mode": {
    "name": "ipython",
    "version": 3
   },
   "file_extension": ".py",
   "mimetype": "text/x-python",
   "name": "python",
   "nbconvert_exporter": "python",
   "pygments_lexer": "ipython3",
   "version": "3.7.10"
  }
 },
 "nbformat": 4,
 "nbformat_minor": 4
}
