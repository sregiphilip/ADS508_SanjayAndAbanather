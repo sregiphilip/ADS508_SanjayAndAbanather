{
 "cells": [
  {
   "cell_type": "markdown",
   "metadata": {},
   "source": [
    "# Data Ingestion"
   ]
  },
  {
   "cell_type": "code",
   "execution_count": 2,
   "metadata": {},
   "outputs": [],
   "source": [
    "import boto3\n",
    "import sagemaker\n",
    "import pandas as pd\n",
    "\n",
    "sess = sagemaker.Session()\n",
    "bucket = sess.default_bucket()\n",
    "role = sagemaker.get_execution_role()\n",
    "region = boto3.Session().region_name"
   ]
  },
  {
   "cell_type": "code",
   "execution_count": 3,
   "metadata": {},
   "outputs": [],
   "source": [
    "from pyathena import connect"
   ]
  },
  {
   "cell_type": "code",
   "execution_count": 4,
   "metadata": {},
   "outputs": [],
   "source": [
    "s3_articles_path = \"s3://ads508sanjay/Articles\"\n",
    "s3_customers_path = \"s3://ads508sanjay/Customers/\"\n",
    "s3_transactions_path = \"s3://ads508sanjay/Transactions/\""
   ]
  },
  {
   "cell_type": "code",
   "execution_count": 5,
   "metadata": {},
   "outputs": [
    {
     "name": "stdout",
     "output_type": "stream",
     "text": [
      "Stored 's3_articles_path' (str)\n",
      "Stored 's3_customers_path' (str)\n",
      "Stored 's3_transactions_path' (str)\n"
     ]
    }
   ],
   "source": [
    "%store s3_articles_path  \n",
    "%store s3_customers_path  \n",
    "%store s3_transactions_path"
   ]
  },
  {
   "cell_type": "markdown",
   "metadata": {},
   "source": [
    "### Creating Database"
   ]
  },
  {
   "cell_type": "code",
   "execution_count": 6,
   "metadata": {},
   "outputs": [],
   "source": [
    "# Set S3 staging directory -- this is a temporary directory used for Athena queries\n",
    "s3_staging_dir = \"s3://{0}/athena/staging\".format(bucket)\n",
    "\n",
    "# Set Athena parameters\n",
    "database_name = \"clothingstore\""
   ]
  },
  {
   "cell_type": "code",
   "execution_count": 7,
   "metadata": {},
   "outputs": [],
   "source": [
    "conn = connect(region_name=region, s3_staging_dir=s3_staging_dir)"
   ]
  },
  {
   "cell_type": "code",
   "execution_count": 8,
   "metadata": {},
   "outputs": [
    {
     "name": "stdout",
     "output_type": "stream",
     "text": [
      "CREATE DATABASE IF NOT EXISTS clothingstore\n"
     ]
    }
   ],
   "source": [
    "statement = \"CREATE DATABASE IF NOT EXISTS {}\".format(database_name)\n",
    "print(statement)"
   ]
  },
  {
   "cell_type": "code",
   "execution_count": 9,
   "metadata": {},
   "outputs": [
    {
     "data": {
      "text/html": [
       "<div>\n",
       "<style scoped>\n",
       "    .dataframe tbody tr th:only-of-type {\n",
       "        vertical-align: middle;\n",
       "    }\n",
       "\n",
       "    .dataframe tbody tr th {\n",
       "        vertical-align: top;\n",
       "    }\n",
       "\n",
       "    .dataframe thead th {\n",
       "        text-align: right;\n",
       "    }\n",
       "</style>\n",
       "<table border=\"1\" class=\"dataframe\">\n",
       "  <thead>\n",
       "    <tr style=\"text-align: right;\">\n",
       "      <th></th>\n",
       "    </tr>\n",
       "  </thead>\n",
       "  <tbody>\n",
       "  </tbody>\n",
       "</table>\n",
       "</div>"
      ],
      "text/plain": [
       "Empty DataFrame\n",
       "Columns: []\n",
       "Index: []"
      ]
     },
     "execution_count": 9,
     "metadata": {},
     "output_type": "execute_result"
    }
   ],
   "source": [
    "pd.read_sql(statement, conn)"
   ]
  },
  {
   "cell_type": "code",
   "execution_count": 10,
   "metadata": {},
   "outputs": [
    {
     "data": {
      "text/html": [
       "<div>\n",
       "<style scoped>\n",
       "    .dataframe tbody tr th:only-of-type {\n",
       "        vertical-align: middle;\n",
       "    }\n",
       "\n",
       "    .dataframe tbody tr th {\n",
       "        vertical-align: top;\n",
       "    }\n",
       "\n",
       "    .dataframe thead th {\n",
       "        text-align: right;\n",
       "    }\n",
       "</style>\n",
       "<table border=\"1\" class=\"dataframe\">\n",
       "  <thead>\n",
       "    <tr style=\"text-align: right;\">\n",
       "      <th></th>\n",
       "      <th>database_name</th>\n",
       "    </tr>\n",
       "  </thead>\n",
       "  <tbody>\n",
       "    <tr>\n",
       "      <th>0</th>\n",
       "      <td>clothing</td>\n",
       "    </tr>\n",
       "    <tr>\n",
       "      <th>1</th>\n",
       "      <td>clothingstore</td>\n",
       "    </tr>\n",
       "    <tr>\n",
       "      <th>2</th>\n",
       "      <td>default</td>\n",
       "    </tr>\n",
       "    <tr>\n",
       "      <th>3</th>\n",
       "      <td>project</td>\n",
       "    </tr>\n",
       "    <tr>\n",
       "      <th>4</th>\n",
       "      <td>project2</td>\n",
       "    </tr>\n",
       "    <tr>\n",
       "      <th>5</th>\n",
       "      <td>project3</td>\n",
       "    </tr>\n",
       "    <tr>\n",
       "      <th>6</th>\n",
       "      <td>project4</td>\n",
       "    </tr>\n",
       "    <tr>\n",
       "      <th>7</th>\n",
       "      <td>project5</td>\n",
       "    </tr>\n",
       "    <tr>\n",
       "      <th>8</th>\n",
       "      <td>test</td>\n",
       "    </tr>\n",
       "    <tr>\n",
       "      <th>9</th>\n",
       "      <td>transactions</td>\n",
       "    </tr>\n",
       "  </tbody>\n",
       "</table>\n",
       "</div>"
      ],
      "text/plain": [
       "   database_name\n",
       "0       clothing\n",
       "1  clothingstore\n",
       "2        default\n",
       "3        project\n",
       "4       project2\n",
       "5       project3\n",
       "6       project4\n",
       "7       project5\n",
       "8           test\n",
       "9   transactions"
      ]
     },
     "execution_count": 10,
     "metadata": {},
     "output_type": "execute_result"
    }
   ],
   "source": [
    "statement = \"SHOW DATABASES\"\n",
    "\n",
    "df_show = pd.read_sql(statement, conn)\n",
    "df_show.head(10)"
   ]
  },
  {
   "cell_type": "markdown",
   "metadata": {},
   "source": [
    "### Creating Table Customers"
   ]
  },
  {
   "cell_type": "code",
   "execution_count": 11,
   "metadata": {},
   "outputs": [],
   "source": [
    "table_name = \"customers\""
   ]
  },
  {
   "cell_type": "code",
   "execution_count": 12,
   "metadata": {},
   "outputs": [
    {
     "name": "stdout",
     "output_type": "stream",
     "text": [
      "CREATE EXTERNAL TABLE IF NOT EXISTS clothingstore.customers(\n",
      "         customer_id string,\n",
      "         FN boolean,\n",
      "         active boolean,\n",
      "         club_member_status string,\n",
      "         fashion_news_frequency string,\n",
      "         age int,\n",
      "         postal_code string  \n",
      "         \n",
      "         \n",
      ") ROW FORMAT DELIMITED \n",
      "FIELDS TERMINATED BY ',' \n",
      "LINES TERMINATED BY '\n",
      "'\n",
      "STORED AS TEXTFILE\n",
      "LOCATION 's3://ads508sanjay/Customers/'\n",
      "TBLPROPERTIES ('skip.header.line.count'='1')\n"
     ]
    }
   ],
   "source": [
    "statement = \"\"\"CREATE EXTERNAL TABLE IF NOT EXISTS {}.{}(\n",
    "         customer_id string,\n",
    "         FN boolean,\n",
    "         active boolean,\n",
    "         club_member_status string,\n",
    "         fashion_news_frequency string,\n",
    "         age int,\n",
    "         postal_code string  \n",
    "         \n",
    "         \n",
    ") ROW FORMAT DELIMITED \n",
    "FIELDS TERMINATED BY ',' \n",
    "LINES TERMINATED BY '\\n'\n",
    "STORED AS TEXTFILE\n",
    "LOCATION '{}'\n",
    "TBLPROPERTIES ('skip.header.line.count'='1')\"\"\".format(\n",
    "    database_name, table_name, s3_customers_path\n",
    ")\n",
    "\n",
    "print(statement)"
   ]
  },
  {
   "cell_type": "code",
   "execution_count": 13,
   "metadata": {},
   "outputs": [
    {
     "data": {
      "text/html": [
       "<div>\n",
       "<style scoped>\n",
       "    .dataframe tbody tr th:only-of-type {\n",
       "        vertical-align: middle;\n",
       "    }\n",
       "\n",
       "    .dataframe tbody tr th {\n",
       "        vertical-align: top;\n",
       "    }\n",
       "\n",
       "    .dataframe thead th {\n",
       "        text-align: right;\n",
       "    }\n",
       "</style>\n",
       "<table border=\"1\" class=\"dataframe\">\n",
       "  <thead>\n",
       "    <tr style=\"text-align: right;\">\n",
       "      <th></th>\n",
       "    </tr>\n",
       "  </thead>\n",
       "  <tbody>\n",
       "  </tbody>\n",
       "</table>\n",
       "</div>"
      ],
      "text/plain": [
       "Empty DataFrame\n",
       "Columns: []\n",
       "Index: []"
      ]
     },
     "execution_count": 13,
     "metadata": {},
     "output_type": "execute_result"
    }
   ],
   "source": [
    "import pandas as pd\n",
    "\n",
    "pd.read_sql(statement, conn)"
   ]
  },
  {
   "cell_type": "markdown",
   "metadata": {},
   "source": [
    "### Verify Tables"
   ]
  },
  {
   "cell_type": "code",
   "execution_count": 14,
   "metadata": {},
   "outputs": [
    {
     "data": {
      "text/html": [
       "<div>\n",
       "<style scoped>\n",
       "    .dataframe tbody tr th:only-of-type {\n",
       "        vertical-align: middle;\n",
       "    }\n",
       "\n",
       "    .dataframe tbody tr th {\n",
       "        vertical-align: top;\n",
       "    }\n",
       "\n",
       "    .dataframe thead th {\n",
       "        text-align: right;\n",
       "    }\n",
       "</style>\n",
       "<table border=\"1\" class=\"dataframe\">\n",
       "  <thead>\n",
       "    <tr style=\"text-align: right;\">\n",
       "      <th></th>\n",
       "      <th>tab_name</th>\n",
       "    </tr>\n",
       "  </thead>\n",
       "  <tbody>\n",
       "    <tr>\n",
       "      <th>0</th>\n",
       "      <td>articles</td>\n",
       "    </tr>\n",
       "    <tr>\n",
       "      <th>1</th>\n",
       "      <td>customers</td>\n",
       "    </tr>\n",
       "    <tr>\n",
       "      <th>2</th>\n",
       "      <td>transactions</td>\n",
       "    </tr>\n",
       "  </tbody>\n",
       "</table>\n",
       "</div>"
      ],
      "text/plain": [
       "       tab_name\n",
       "0      articles\n",
       "1     customers\n",
       "2  transactions"
      ]
     },
     "execution_count": 14,
     "metadata": {},
     "output_type": "execute_result"
    }
   ],
   "source": [
    "statement = \"SHOW TABLES in {}\".format(database_name)\n",
    "\n",
    "df_show = pd.read_sql(statement, conn)\n",
    "df_show.head(5)\n"
   ]
  },
  {
   "cell_type": "markdown",
   "metadata": {},
   "source": [
    "### Run a sample query"
   ]
  },
  {
   "cell_type": "code",
   "execution_count": 15,
   "metadata": {},
   "outputs": [
    {
     "name": "stdout",
     "output_type": "stream",
     "text": [
      "SELECT * FROM clothingstore.customers\n"
     ]
    }
   ],
   "source": [
    "statement = \"\"\"SELECT * FROM {}.{}\"\"\".format(\n",
    "    database_name, table_name\n",
    ")\n",
    "\n",
    "print(statement)"
   ]
  },
  {
   "cell_type": "code",
   "execution_count": 16,
   "metadata": {},
   "outputs": [
    {
     "data": {
      "text/html": [
       "<div>\n",
       "<style scoped>\n",
       "    .dataframe tbody tr th:only-of-type {\n",
       "        vertical-align: middle;\n",
       "    }\n",
       "\n",
       "    .dataframe tbody tr th {\n",
       "        vertical-align: top;\n",
       "    }\n",
       "\n",
       "    .dataframe thead th {\n",
       "        text-align: right;\n",
       "    }\n",
       "</style>\n",
       "<table border=\"1\" class=\"dataframe\">\n",
       "  <thead>\n",
       "    <tr style=\"text-align: right;\">\n",
       "      <th></th>\n",
       "      <th>customer_id</th>\n",
       "      <th>fn</th>\n",
       "      <th>active</th>\n",
       "      <th>club_member_status</th>\n",
       "      <th>fashion_news_frequency</th>\n",
       "      <th>age</th>\n",
       "      <th>postal_code</th>\n",
       "    </tr>\n",
       "  </thead>\n",
       "  <tbody>\n",
       "    <tr>\n",
       "      <th>0</th>\n",
       "      <td>2978aade39de1358d9cf91d0a048a1f6632ddd88e75bc1...</td>\n",
       "      <td>None</td>\n",
       "      <td>None</td>\n",
       "      <td>ACTIVE</td>\n",
       "      <td>NONE</td>\n",
       "      <td>40.0</td>\n",
       "      <td>4c77dcd161f3aa4a00d6bcf9bb7071f1cda3bea4ece301...</td>\n",
       "    </tr>\n",
       "    <tr>\n",
       "      <th>1</th>\n",
       "      <td>2978ab60f5806866bdbe09b7c7afb40bdf260386248baf...</td>\n",
       "      <td>None</td>\n",
       "      <td>None</td>\n",
       "      <td>ACTIVE</td>\n",
       "      <td>Regularly</td>\n",
       "      <td>27.0</td>\n",
       "      <td>72ba62829df648894ae699c22b2d5573d0b689d2f203b7...</td>\n",
       "    </tr>\n",
       "    <tr>\n",
       "      <th>2</th>\n",
       "      <td>2978ca89627f1b020761006f84367854927adc5859b97f...</td>\n",
       "      <td>None</td>\n",
       "      <td>None</td>\n",
       "      <td>ACTIVE</td>\n",
       "      <td>Regularly</td>\n",
       "      <td>62.0</td>\n",
       "      <td>b311667752a7558f654a7d407a59f39e75ead83efb82f0...</td>\n",
       "    </tr>\n",
       "    <tr>\n",
       "      <th>3</th>\n",
       "      <td>2978d5e0ccf916912b929be75fd338055b73c434a863a2...</td>\n",
       "      <td>None</td>\n",
       "      <td>None</td>\n",
       "      <td>ACTIVE</td>\n",
       "      <td>Regularly</td>\n",
       "      <td>39.0</td>\n",
       "      <td>2c29ae653a9282cce4151bd87643c907644e09541abc28...</td>\n",
       "    </tr>\n",
       "    <tr>\n",
       "      <th>4</th>\n",
       "      <td>2978d89789506fd3d90d1197d2b22d5bedee045c7b7fe0...</td>\n",
       "      <td>None</td>\n",
       "      <td>None</td>\n",
       "      <td>ACTIVE</td>\n",
       "      <td>NONE</td>\n",
       "      <td>51.0</td>\n",
       "      <td>b496fdecbd12aebbe73254c6f5b66b2eb1ac6eaeaadcbd...</td>\n",
       "    </tr>\n",
       "    <tr>\n",
       "      <th>5</th>\n",
       "      <td>2978dbdc38dd7ade1153537ca38976c766d2ebefabae54...</td>\n",
       "      <td>None</td>\n",
       "      <td>None</td>\n",
       "      <td>ACTIVE</td>\n",
       "      <td>NONE</td>\n",
       "      <td>24.0</td>\n",
       "      <td>cc8097e0676655cfbcdabf081ccf232d7dac0be7ae5f79...</td>\n",
       "    </tr>\n",
       "    <tr>\n",
       "      <th>6</th>\n",
       "      <td>2978de0fed105c5ca9ec6cd7011f7cee4ea7ae6c595950...</td>\n",
       "      <td>None</td>\n",
       "      <td>None</td>\n",
       "      <td>ACTIVE</td>\n",
       "      <td></td>\n",
       "      <td>72.0</td>\n",
       "      <td>2c29ae653a9282cce4151bd87643c907644e09541abc28...</td>\n",
       "    </tr>\n",
       "    <tr>\n",
       "      <th>7</th>\n",
       "      <td>2978e65fc3c9951c4669849e6145849581df37362ad166...</td>\n",
       "      <td>None</td>\n",
       "      <td>None</td>\n",
       "      <td>PRE-CREATE</td>\n",
       "      <td>NONE</td>\n",
       "      <td>21.0</td>\n",
       "      <td>15fe66bdebb1dfaeb630b671556ac5048971209a502c8a...</td>\n",
       "    </tr>\n",
       "    <tr>\n",
       "      <th>8</th>\n",
       "      <td>2978e892483fe98de2a753f2e134a1dfa072594a81bb7d...</td>\n",
       "      <td>None</td>\n",
       "      <td>None</td>\n",
       "      <td>ACTIVE</td>\n",
       "      <td>NONE</td>\n",
       "      <td>35.0</td>\n",
       "      <td>a5f07c5358e20c129b907f34cbb08aef4618ad11f5ee82...</td>\n",
       "    </tr>\n",
       "    <tr>\n",
       "      <th>9</th>\n",
       "      <td>2978ef69c80359cfd29c2e9a021fba3a07419573d787ea...</td>\n",
       "      <td>None</td>\n",
       "      <td>None</td>\n",
       "      <td>ACTIVE</td>\n",
       "      <td>NONE</td>\n",
       "      <td>21.0</td>\n",
       "      <td>2c29ae653a9282cce4151bd87643c907644e09541abc28...</td>\n",
       "    </tr>\n",
       "  </tbody>\n",
       "</table>\n",
       "</div>"
      ],
      "text/plain": [
       "                                         customer_id    fn active  \\\n",
       "0  2978aade39de1358d9cf91d0a048a1f6632ddd88e75bc1...  None   None   \n",
       "1  2978ab60f5806866bdbe09b7c7afb40bdf260386248baf...  None   None   \n",
       "2  2978ca89627f1b020761006f84367854927adc5859b97f...  None   None   \n",
       "3  2978d5e0ccf916912b929be75fd338055b73c434a863a2...  None   None   \n",
       "4  2978d89789506fd3d90d1197d2b22d5bedee045c7b7fe0...  None   None   \n",
       "5  2978dbdc38dd7ade1153537ca38976c766d2ebefabae54...  None   None   \n",
       "6  2978de0fed105c5ca9ec6cd7011f7cee4ea7ae6c595950...  None   None   \n",
       "7  2978e65fc3c9951c4669849e6145849581df37362ad166...  None   None   \n",
       "8  2978e892483fe98de2a753f2e134a1dfa072594a81bb7d...  None   None   \n",
       "9  2978ef69c80359cfd29c2e9a021fba3a07419573d787ea...  None   None   \n",
       "\n",
       "  club_member_status fashion_news_frequency   age  \\\n",
       "0             ACTIVE                   NONE  40.0   \n",
       "1             ACTIVE              Regularly  27.0   \n",
       "2             ACTIVE              Regularly  62.0   \n",
       "3             ACTIVE              Regularly  39.0   \n",
       "4             ACTIVE                   NONE  51.0   \n",
       "5             ACTIVE                   NONE  24.0   \n",
       "6             ACTIVE                         72.0   \n",
       "7         PRE-CREATE                   NONE  21.0   \n",
       "8             ACTIVE                   NONE  35.0   \n",
       "9             ACTIVE                   NONE  21.0   \n",
       "\n",
       "                                         postal_code  \n",
       "0  4c77dcd161f3aa4a00d6bcf9bb7071f1cda3bea4ece301...  \n",
       "1  72ba62829df648894ae699c22b2d5573d0b689d2f203b7...  \n",
       "2  b311667752a7558f654a7d407a59f39e75ead83efb82f0...  \n",
       "3  2c29ae653a9282cce4151bd87643c907644e09541abc28...  \n",
       "4  b496fdecbd12aebbe73254c6f5b66b2eb1ac6eaeaadcbd...  \n",
       "5  cc8097e0676655cfbcdabf081ccf232d7dac0be7ae5f79...  \n",
       "6  2c29ae653a9282cce4151bd87643c907644e09541abc28...  \n",
       "7  15fe66bdebb1dfaeb630b671556ac5048971209a502c8a...  \n",
       "8  a5f07c5358e20c129b907f34cbb08aef4618ad11f5ee82...  \n",
       "9  2c29ae653a9282cce4151bd87643c907644e09541abc28...  "
      ]
     },
     "execution_count": 16,
     "metadata": {},
     "output_type": "execute_result"
    }
   ],
   "source": [
    "df_customers = pd.read_sql(statement, conn)\n",
    "df_customers.head(10)\n",
    "\n"
   ]
  },
  {
   "cell_type": "markdown",
   "metadata": {},
   "source": [
    "### Create Table Articles"
   ]
  },
  {
   "cell_type": "code",
   "execution_count": 17,
   "metadata": {},
   "outputs": [],
   "source": [
    "table_name = \"articles\""
   ]
  },
  {
   "cell_type": "code",
   "execution_count": 18,
   "metadata": {},
   "outputs": [
    {
     "name": "stdout",
     "output_type": "stream",
     "text": [
      "CREATE EXTERNAL TABLE IF NOT EXISTS clothingstore.articles(\n",
      "         article_id string,\n",
      "         product_code string,\n",
      "         prod_name string,\n",
      "         product_type_no string,\n",
      "         product_type_name string,\n",
      "         product_group_name string,\n",
      "         graphical_appearance_no string,\n",
      "         graphical_appearance_name string,\n",
      "         colour_group_code string,\n",
      "         colour_group_name string,\n",
      "         perceived_colour_value_id string,\n",
      "         perceived_colour_value_name string,\n",
      "         perceived_colour_master_id string,\n",
      "         perceived_colour_master_name string,\n",
      "         department_no string,\n",
      "         department_name string,\n",
      "         index_code string,\n",
      "         index_name string,\n",
      "         index_group_no string,\n",
      "         index_group_name string,\n",
      "         section_no string,\n",
      "         section_name string,\n",
      "         garment_group_no string,\n",
      "         garment_group_name string,\n",
      "         detail_desc  string\n",
      "         \n",
      "         \n",
      ") ROW FORMAT DELIMITED \n",
      "FIELDS TERMINATED BY ','\n",
      "LINES TERMINATED BY '\n",
      "'\n",
      "STORED AS TEXTFILE\n",
      "LOCATION 's3://ads508sanjay/Articles'\n",
      "TBLPROPERTIES ('skip.header.line.count'='1')\n"
     ]
    }
   ],
   "source": [
    "statement = \"\"\"CREATE EXTERNAL TABLE IF NOT EXISTS {}.{}(\n",
    "         article_id string,\n",
    "         product_code string,\n",
    "         prod_name string,\n",
    "         product_type_no string,\n",
    "         product_type_name string,\n",
    "         product_group_name string,\n",
    "         graphical_appearance_no string,\n",
    "         graphical_appearance_name string,\n",
    "         colour_group_code string,\n",
    "         colour_group_name string,\n",
    "         perceived_colour_value_id string,\n",
    "         perceived_colour_value_name string,\n",
    "         perceived_colour_master_id string,\n",
    "         perceived_colour_master_name string,\n",
    "         department_no string,\n",
    "         department_name string,\n",
    "         index_code string,\n",
    "         index_name string,\n",
    "         index_group_no string,\n",
    "         index_group_name string,\n",
    "         section_no string,\n",
    "         section_name string,\n",
    "         garment_group_no string,\n",
    "         garment_group_name string,\n",
    "         detail_desc  string\n",
    "         \n",
    "         \n",
    ") ROW FORMAT DELIMITED \n",
    "FIELDS TERMINATED BY ','\n",
    "LINES TERMINATED BY '\\n'\n",
    "STORED AS TEXTFILE\n",
    "LOCATION '{}'\n",
    "TBLPROPERTIES ('skip.header.line.count'='1')\"\"\".format(\n",
    "    database_name, table_name, s3_articles_path\n",
    ")\n",
    "\n",
    "print(statement)"
   ]
  },
  {
   "cell_type": "code",
   "execution_count": 19,
   "metadata": {},
   "outputs": [
    {
     "data": {
      "text/html": [
       "<div>\n",
       "<style scoped>\n",
       "    .dataframe tbody tr th:only-of-type {\n",
       "        vertical-align: middle;\n",
       "    }\n",
       "\n",
       "    .dataframe tbody tr th {\n",
       "        vertical-align: top;\n",
       "    }\n",
       "\n",
       "    .dataframe thead th {\n",
       "        text-align: right;\n",
       "    }\n",
       "</style>\n",
       "<table border=\"1\" class=\"dataframe\">\n",
       "  <thead>\n",
       "    <tr style=\"text-align: right;\">\n",
       "      <th></th>\n",
       "    </tr>\n",
       "  </thead>\n",
       "  <tbody>\n",
       "  </tbody>\n",
       "</table>\n",
       "</div>"
      ],
      "text/plain": [
       "Empty DataFrame\n",
       "Columns: []\n",
       "Index: []"
      ]
     },
     "execution_count": 19,
     "metadata": {},
     "output_type": "execute_result"
    }
   ],
   "source": [
    "import pandas as pd\n",
    "\n",
    "pd.read_sql(statement, conn)"
   ]
  },
  {
   "cell_type": "markdown",
   "metadata": {},
   "source": [
    "### Show Tables"
   ]
  },
  {
   "cell_type": "code",
   "execution_count": 20,
   "metadata": {},
   "outputs": [
    {
     "data": {
      "text/html": [
       "<div>\n",
       "<style scoped>\n",
       "    .dataframe tbody tr th:only-of-type {\n",
       "        vertical-align: middle;\n",
       "    }\n",
       "\n",
       "    .dataframe tbody tr th {\n",
       "        vertical-align: top;\n",
       "    }\n",
       "\n",
       "    .dataframe thead th {\n",
       "        text-align: right;\n",
       "    }\n",
       "</style>\n",
       "<table border=\"1\" class=\"dataframe\">\n",
       "  <thead>\n",
       "    <tr style=\"text-align: right;\">\n",
       "      <th></th>\n",
       "      <th>tab_name</th>\n",
       "    </tr>\n",
       "  </thead>\n",
       "  <tbody>\n",
       "    <tr>\n",
       "      <th>0</th>\n",
       "      <td>articles</td>\n",
       "    </tr>\n",
       "    <tr>\n",
       "      <th>1</th>\n",
       "      <td>customers</td>\n",
       "    </tr>\n",
       "    <tr>\n",
       "      <th>2</th>\n",
       "      <td>transactions</td>\n",
       "    </tr>\n",
       "  </tbody>\n",
       "</table>\n",
       "</div>"
      ],
      "text/plain": [
       "       tab_name\n",
       "0      articles\n",
       "1     customers\n",
       "2  transactions"
      ]
     },
     "execution_count": 20,
     "metadata": {},
     "output_type": "execute_result"
    }
   ],
   "source": [
    "statement = \"SHOW TABLES in {}\".format(database_name)\n",
    "\n",
    "df_show = pd.read_sql(statement, conn)\n",
    "df_show.head(5)\n"
   ]
  },
  {
   "cell_type": "markdown",
   "metadata": {},
   "source": [
    "### Run a sample query"
   ]
  },
  {
   "cell_type": "code",
   "execution_count": 21,
   "metadata": {},
   "outputs": [
    {
     "name": "stdout",
     "output_type": "stream",
     "text": [
      "SELECT * FROM clothingstore.articles\n"
     ]
    }
   ],
   "source": [
    "statement = \"\"\"SELECT * FROM {}.{}\"\"\".format(\n",
    "    database_name, table_name\n",
    ")\n",
    "\n",
    "print(statement)"
   ]
  },
  {
   "cell_type": "code",
   "execution_count": 22,
   "metadata": {},
   "outputs": [
    {
     "data": {
      "text/html": [
       "<div>\n",
       "<style scoped>\n",
       "    .dataframe tbody tr th:only-of-type {\n",
       "        vertical-align: middle;\n",
       "    }\n",
       "\n",
       "    .dataframe tbody tr th {\n",
       "        vertical-align: top;\n",
       "    }\n",
       "\n",
       "    .dataframe thead th {\n",
       "        text-align: right;\n",
       "    }\n",
       "</style>\n",
       "<table border=\"1\" class=\"dataframe\">\n",
       "  <thead>\n",
       "    <tr style=\"text-align: right;\">\n",
       "      <th></th>\n",
       "      <th>article_id</th>\n",
       "      <th>product_code</th>\n",
       "      <th>prod_name</th>\n",
       "      <th>product_type_no</th>\n",
       "      <th>product_type_name</th>\n",
       "      <th>product_group_name</th>\n",
       "      <th>graphical_appearance_no</th>\n",
       "      <th>graphical_appearance_name</th>\n",
       "      <th>colour_group_code</th>\n",
       "      <th>colour_group_name</th>\n",
       "      <th>...</th>\n",
       "      <th>department_name</th>\n",
       "      <th>index_code</th>\n",
       "      <th>index_name</th>\n",
       "      <th>index_group_no</th>\n",
       "      <th>index_group_name</th>\n",
       "      <th>section_no</th>\n",
       "      <th>section_name</th>\n",
       "      <th>garment_group_no</th>\n",
       "      <th>garment_group_name</th>\n",
       "      <th>detail_desc</th>\n",
       "    </tr>\n",
       "  </thead>\n",
       "  <tbody>\n",
       "    <tr>\n",
       "      <th>0</th>\n",
       "      <td>0707849002</td>\n",
       "      <td>0707849</td>\n",
       "      <td>PQ Isabella Sandal SG</td>\n",
       "      <td>91</td>\n",
       "      <td>Sandals</td>\n",
       "      <td>Shoes</td>\n",
       "      <td>1010016</td>\n",
       "      <td>Solid</td>\n",
       "      <td>12</td>\n",
       "      <td>Light Beige</td>\n",
       "      <td>...</td>\n",
       "      <td>Kids Girl Shoes</td>\n",
       "      <td>J</td>\n",
       "      <td>\"Children Accessories</td>\n",
       "      <td>Swimwear\"</td>\n",
       "      <td>4</td>\n",
       "      <td>Baby/Children</td>\n",
       "      <td>42</td>\n",
       "      <td>Kids &amp; Baby Shoes</td>\n",
       "      <td>1020</td>\n",
       "      <td>Shoes</td>\n",
       "    </tr>\n",
       "    <tr>\n",
       "      <th>1</th>\n",
       "      <td>0707851002</td>\n",
       "      <td>0707851</td>\n",
       "      <td>Sofia dance shoe</td>\n",
       "      <td>89</td>\n",
       "      <td>Other shoe</td>\n",
       "      <td>Shoes</td>\n",
       "      <td>1010009</td>\n",
       "      <td>Glittering/Metallic</td>\n",
       "      <td>12</td>\n",
       "      <td>Light Beige</td>\n",
       "      <td>...</td>\n",
       "      <td>Kids Dress-up/Football</td>\n",
       "      <td>J</td>\n",
       "      <td>\"Children Accessories</td>\n",
       "      <td>Swimwear\"</td>\n",
       "      <td>4</td>\n",
       "      <td>Baby/Children</td>\n",
       "      <td>43</td>\n",
       "      <td>\"Kids Accessories</td>\n",
       "      <td>Swimwear &amp; D\"</td>\n",
       "      <td>1019</td>\n",
       "    </tr>\n",
       "    <tr>\n",
       "      <th>2</th>\n",
       "      <td>0707852002</td>\n",
       "      <td>0707852</td>\n",
       "      <td>Foil cape</td>\n",
       "      <td>78</td>\n",
       "      <td>Other accessories</td>\n",
       "      <td>Accessories</td>\n",
       "      <td>1010009</td>\n",
       "      <td>Glittering/Metallic</td>\n",
       "      <td>51</td>\n",
       "      <td>Light Pink</td>\n",
       "      <td>...</td>\n",
       "      <td>Kids Dress-up/Football</td>\n",
       "      <td>J</td>\n",
       "      <td>\"Children Accessories</td>\n",
       "      <td>Swimwear\"</td>\n",
       "      <td>4</td>\n",
       "      <td>Baby/Children</td>\n",
       "      <td>43</td>\n",
       "      <td>\"Kids Accessories</td>\n",
       "      <td>Swimwear &amp; D\"</td>\n",
       "      <td>1019</td>\n",
       "    </tr>\n",
       "    <tr>\n",
       "      <th>3</th>\n",
       "      <td>0707931001</td>\n",
       "      <td>0707931</td>\n",
       "      <td>Columbine SP Andes</td>\n",
       "      <td>306</td>\n",
       "      <td>Bra</td>\n",
       "      <td>Underwear</td>\n",
       "      <td>1010021</td>\n",
       "      <td>Lace</td>\n",
       "      <td>09</td>\n",
       "      <td>Black</td>\n",
       "      <td>...</td>\n",
       "      <td>Expressive Lingerie</td>\n",
       "      <td>B</td>\n",
       "      <td>Lingeries/Tights</td>\n",
       "      <td>1</td>\n",
       "      <td>Ladieswear</td>\n",
       "      <td>61</td>\n",
       "      <td>Womens Lingerie</td>\n",
       "      <td>1017</td>\n",
       "      <td>\"Under-</td>\n",
       "      <td>Nightwear\"</td>\n",
       "    </tr>\n",
       "    <tr>\n",
       "      <th>4</th>\n",
       "      <td>0707931005</td>\n",
       "      <td>0707931</td>\n",
       "      <td>Columbine SP Andes</td>\n",
       "      <td>306</td>\n",
       "      <td>Bra</td>\n",
       "      <td>Underwear</td>\n",
       "      <td>1010021</td>\n",
       "      <td>Lace</td>\n",
       "      <td>10</td>\n",
       "      <td>White</td>\n",
       "      <td>...</td>\n",
       "      <td>Expressive Lingerie</td>\n",
       "      <td>B</td>\n",
       "      <td>Lingeries/Tights</td>\n",
       "      <td>1</td>\n",
       "      <td>Ladieswear</td>\n",
       "      <td>61</td>\n",
       "      <td>Womens Lingerie</td>\n",
       "      <td>1017</td>\n",
       "      <td>\"Under-</td>\n",
       "      <td>Nightwear\"</td>\n",
       "    </tr>\n",
       "    <tr>\n",
       "      <th>5</th>\n",
       "      <td>0707983001</td>\n",
       "      <td>0707983</td>\n",
       "      <td>Drums</td>\n",
       "      <td>264</td>\n",
       "      <td>Blazer</td>\n",
       "      <td>Garment Upper body</td>\n",
       "      <td>1010026</td>\n",
       "      <td>Other structure</td>\n",
       "      <td>09</td>\n",
       "      <td>Black</td>\n",
       "      <td>...</td>\n",
       "      <td>Suit</td>\n",
       "      <td>A</td>\n",
       "      <td>Ladieswear</td>\n",
       "      <td>1</td>\n",
       "      <td>Ladieswear</td>\n",
       "      <td>11</td>\n",
       "      <td>Womens Tailoring</td>\n",
       "      <td>1008</td>\n",
       "      <td>Dressed</td>\n",
       "      <td>\"Jacket in a textured weave with fringe trims</td>\n",
       "    </tr>\n",
       "    <tr>\n",
       "      <th>6</th>\n",
       "      <td>0707983002</td>\n",
       "      <td>0707983</td>\n",
       "      <td>Drums</td>\n",
       "      <td>264</td>\n",
       "      <td>Blazer</td>\n",
       "      <td>Garment Upper body</td>\n",
       "      <td>1010026</td>\n",
       "      <td>Other structure</td>\n",
       "      <td>11</td>\n",
       "      <td>Off White</td>\n",
       "      <td>...</td>\n",
       "      <td>Suit</td>\n",
       "      <td>A</td>\n",
       "      <td>Ladieswear</td>\n",
       "      <td>1</td>\n",
       "      <td>Ladieswear</td>\n",
       "      <td>11</td>\n",
       "      <td>Womens Tailoring</td>\n",
       "      <td>1008</td>\n",
       "      <td>Dressed</td>\n",
       "      <td>\"Jacket in a textured weave with fringe trims</td>\n",
       "    </tr>\n",
       "    <tr>\n",
       "      <th>7</th>\n",
       "      <td>0707983003</td>\n",
       "      <td>0707983</td>\n",
       "      <td>Drums</td>\n",
       "      <td>264</td>\n",
       "      <td>Blazer</td>\n",
       "      <td>Garment Upper body</td>\n",
       "      <td>1010026</td>\n",
       "      <td>Other structure</td>\n",
       "      <td>42</td>\n",
       "      <td>Red</td>\n",
       "      <td>...</td>\n",
       "      <td>Suit</td>\n",
       "      <td>A</td>\n",
       "      <td>Ladieswear</td>\n",
       "      <td>1</td>\n",
       "      <td>Ladieswear</td>\n",
       "      <td>11</td>\n",
       "      <td>Womens Tailoring</td>\n",
       "      <td>1008</td>\n",
       "      <td>Dressed</td>\n",
       "      <td>\"Jacket in a textured weave with fringe trims</td>\n",
       "    </tr>\n",
       "    <tr>\n",
       "      <th>8</th>\n",
       "      <td>0707983004</td>\n",
       "      <td>0707983</td>\n",
       "      <td>Drums</td>\n",
       "      <td>264</td>\n",
       "      <td>Blazer</td>\n",
       "      <td>Garment Upper body</td>\n",
       "      <td>1010026</td>\n",
       "      <td>Other structure</td>\n",
       "      <td>09</td>\n",
       "      <td>Black</td>\n",
       "      <td>...</td>\n",
       "      <td>Suit</td>\n",
       "      <td>A</td>\n",
       "      <td>Ladieswear</td>\n",
       "      <td>1</td>\n",
       "      <td>Ladieswear</td>\n",
       "      <td>11</td>\n",
       "      <td>Womens Tailoring</td>\n",
       "      <td>1008</td>\n",
       "      <td>Dressed</td>\n",
       "      <td>\"Jacket in a textured weave with fringe trims</td>\n",
       "    </tr>\n",
       "    <tr>\n",
       "      <th>9</th>\n",
       "      <td>0707995011</td>\n",
       "      <td>0707995</td>\n",
       "      <td>DIV Bounty tank</td>\n",
       "      <td>254</td>\n",
       "      <td>Top</td>\n",
       "      <td>Garment Upper body</td>\n",
       "      <td>1010001</td>\n",
       "      <td>All over pattern</td>\n",
       "      <td>09</td>\n",
       "      <td>Black</td>\n",
       "      <td>...</td>\n",
       "      <td>Divided+</td>\n",
       "      <td>D</td>\n",
       "      <td>Divided</td>\n",
       "      <td>2</td>\n",
       "      <td>Divided</td>\n",
       "      <td>50</td>\n",
       "      <td>Divided Projects</td>\n",
       "      <td>1001</td>\n",
       "      <td>Unknown</td>\n",
       "      <td>\"Sleeveless top in a patterned viscose weave w...</td>\n",
       "    </tr>\n",
       "  </tbody>\n",
       "</table>\n",
       "<p>10 rows × 25 columns</p>\n",
       "</div>"
      ],
      "text/plain": [
       "   article_id product_code              prod_name product_type_no  \\\n",
       "0  0707849002      0707849  PQ Isabella Sandal SG              91   \n",
       "1  0707851002      0707851       Sofia dance shoe              89   \n",
       "2  0707852002      0707852              Foil cape              78   \n",
       "3  0707931001      0707931     Columbine SP Andes             306   \n",
       "4  0707931005      0707931     Columbine SP Andes             306   \n",
       "5  0707983001      0707983                  Drums             264   \n",
       "6  0707983002      0707983                  Drums             264   \n",
       "7  0707983003      0707983                  Drums             264   \n",
       "8  0707983004      0707983                  Drums             264   \n",
       "9  0707995011      0707995        DIV Bounty tank             254   \n",
       "\n",
       "   product_type_name  product_group_name graphical_appearance_no  \\\n",
       "0            Sandals               Shoes                 1010016   \n",
       "1         Other shoe               Shoes                 1010009   \n",
       "2  Other accessories         Accessories                 1010009   \n",
       "3                Bra           Underwear                 1010021   \n",
       "4                Bra           Underwear                 1010021   \n",
       "5             Blazer  Garment Upper body                 1010026   \n",
       "6             Blazer  Garment Upper body                 1010026   \n",
       "7             Blazer  Garment Upper body                 1010026   \n",
       "8             Blazer  Garment Upper body                 1010026   \n",
       "9                Top  Garment Upper body                 1010001   \n",
       "\n",
       "  graphical_appearance_name colour_group_code colour_group_name  ...  \\\n",
       "0                     Solid                12       Light Beige  ...   \n",
       "1       Glittering/Metallic                12       Light Beige  ...   \n",
       "2       Glittering/Metallic                51        Light Pink  ...   \n",
       "3                      Lace                09             Black  ...   \n",
       "4                      Lace                10             White  ...   \n",
       "5           Other structure                09             Black  ...   \n",
       "6           Other structure                11         Off White  ...   \n",
       "7           Other structure                42               Red  ...   \n",
       "8           Other structure                09             Black  ...   \n",
       "9          All over pattern                09             Black  ...   \n",
       "\n",
       "          department_name index_code             index_name index_group_no  \\\n",
       "0         Kids Girl Shoes          J  \"Children Accessories      Swimwear\"   \n",
       "1  Kids Dress-up/Football          J  \"Children Accessories      Swimwear\"   \n",
       "2  Kids Dress-up/Football          J  \"Children Accessories      Swimwear\"   \n",
       "3     Expressive Lingerie          B       Lingeries/Tights              1   \n",
       "4     Expressive Lingerie          B       Lingeries/Tights              1   \n",
       "5                    Suit          A             Ladieswear              1   \n",
       "6                    Suit          A             Ladieswear              1   \n",
       "7                    Suit          A             Ladieswear              1   \n",
       "8                    Suit          A             Ladieswear              1   \n",
       "9                Divided+          D                Divided              2   \n",
       "\n",
       "  index_group_name     section_no      section_name   garment_group_no  \\\n",
       "0                4  Baby/Children                42  Kids & Baby Shoes   \n",
       "1                4  Baby/Children                43  \"Kids Accessories   \n",
       "2                4  Baby/Children                43  \"Kids Accessories   \n",
       "3       Ladieswear             61   Womens Lingerie               1017   \n",
       "4       Ladieswear             61   Womens Lingerie               1017   \n",
       "5       Ladieswear             11  Womens Tailoring               1008   \n",
       "6       Ladieswear             11  Womens Tailoring               1008   \n",
       "7       Ladieswear             11  Womens Tailoring               1008   \n",
       "8       Ladieswear             11  Womens Tailoring               1008   \n",
       "9          Divided             50  Divided Projects               1001   \n",
       "\n",
       "  garment_group_name                                        detail_desc  \n",
       "0               1020                                              Shoes  \n",
       "1      Swimwear & D\"                                               1019  \n",
       "2      Swimwear & D\"                                               1019  \n",
       "3            \"Under-                                         Nightwear\"  \n",
       "4            \"Under-                                         Nightwear\"  \n",
       "5            Dressed      \"Jacket in a textured weave with fringe trims  \n",
       "6            Dressed      \"Jacket in a textured weave with fringe trims  \n",
       "7            Dressed      \"Jacket in a textured weave with fringe trims  \n",
       "8            Dressed      \"Jacket in a textured weave with fringe trims  \n",
       "9            Unknown  \"Sleeveless top in a patterned viscose weave w...  \n",
       "\n",
       "[10 rows x 25 columns]"
      ]
     },
     "execution_count": 22,
     "metadata": {},
     "output_type": "execute_result"
    }
   ],
   "source": [
    "df_articles = pd.read_sql(statement, conn)\n",
    "df_articles.head(10)"
   ]
  },
  {
   "cell_type": "markdown",
   "metadata": {},
   "source": [
    "### Create Table Transactions"
   ]
  },
  {
   "cell_type": "code",
   "execution_count": 23,
   "metadata": {},
   "outputs": [],
   "source": [
    "table_name = \"transactions\""
   ]
  },
  {
   "cell_type": "code",
   "execution_count": 24,
   "metadata": {},
   "outputs": [
    {
     "name": "stdout",
     "output_type": "stream",
     "text": [
      "CREATE EXTERNAL TABLE IF NOT EXISTS clothingstore.transactions(\n",
      "         t_dat string,\n",
      "         customer_id string,\n",
      "         article_id string,\n",
      "         price int,\n",
      "         sales_channel_id string\n",
      "         \n",
      "         \n",
      ") ROW FORMAT DELIMITED \n",
      "FIELDS TERMINATED BY ','\n",
      "LINES TERMINATED BY '\n",
      "'\n",
      "STORED AS TEXTFILE\n",
      "LOCATION 's3://ads508sanjay/Transactions/'\n",
      "TBLPROPERTIES ('skip.header.line.count'='1')\n"
     ]
    }
   ],
   "source": [
    "statement = \"\"\"CREATE EXTERNAL TABLE IF NOT EXISTS {}.{}(\n",
    "         t_dat string,\n",
    "         customer_id string,\n",
    "         article_id string,\n",
    "         price int,\n",
    "         sales_channel_id string\n",
    "         \n",
    "         \n",
    ") ROW FORMAT DELIMITED \n",
    "FIELDS TERMINATED BY ','\n",
    "LINES TERMINATED BY '\\n'\n",
    "STORED AS TEXTFILE\n",
    "LOCATION '{}'\n",
    "TBLPROPERTIES ('skip.header.line.count'='1')\"\"\".format(\n",
    "    database_name, table_name, s3_transactions_path\n",
    ")\n",
    "\n",
    "print(statement)"
   ]
  },
  {
   "cell_type": "code",
   "execution_count": 25,
   "metadata": {},
   "outputs": [
    {
     "data": {
      "text/html": [
       "<div>\n",
       "<style scoped>\n",
       "    .dataframe tbody tr th:only-of-type {\n",
       "        vertical-align: middle;\n",
       "    }\n",
       "\n",
       "    .dataframe tbody tr th {\n",
       "        vertical-align: top;\n",
       "    }\n",
       "\n",
       "    .dataframe thead th {\n",
       "        text-align: right;\n",
       "    }\n",
       "</style>\n",
       "<table border=\"1\" class=\"dataframe\">\n",
       "  <thead>\n",
       "    <tr style=\"text-align: right;\">\n",
       "      <th></th>\n",
       "    </tr>\n",
       "  </thead>\n",
       "  <tbody>\n",
       "  </tbody>\n",
       "</table>\n",
       "</div>"
      ],
      "text/plain": [
       "Empty DataFrame\n",
       "Columns: []\n",
       "Index: []"
      ]
     },
     "execution_count": 25,
     "metadata": {},
     "output_type": "execute_result"
    }
   ],
   "source": [
    "import pandas as pd\n",
    "\n",
    "pd.read_sql(statement, conn)"
   ]
  },
  {
   "cell_type": "markdown",
   "metadata": {},
   "source": [
    "### Show Tables"
   ]
  },
  {
   "cell_type": "code",
   "execution_count": 26,
   "metadata": {},
   "outputs": [
    {
     "data": {
      "text/html": [
       "<div>\n",
       "<style scoped>\n",
       "    .dataframe tbody tr th:only-of-type {\n",
       "        vertical-align: middle;\n",
       "    }\n",
       "\n",
       "    .dataframe tbody tr th {\n",
       "        vertical-align: top;\n",
       "    }\n",
       "\n",
       "    .dataframe thead th {\n",
       "        text-align: right;\n",
       "    }\n",
       "</style>\n",
       "<table border=\"1\" class=\"dataframe\">\n",
       "  <thead>\n",
       "    <tr style=\"text-align: right;\">\n",
       "      <th></th>\n",
       "      <th>tab_name</th>\n",
       "    </tr>\n",
       "  </thead>\n",
       "  <tbody>\n",
       "    <tr>\n",
       "      <th>0</th>\n",
       "      <td>articles</td>\n",
       "    </tr>\n",
       "    <tr>\n",
       "      <th>1</th>\n",
       "      <td>customers</td>\n",
       "    </tr>\n",
       "    <tr>\n",
       "      <th>2</th>\n",
       "      <td>transactions</td>\n",
       "    </tr>\n",
       "  </tbody>\n",
       "</table>\n",
       "</div>"
      ],
      "text/plain": [
       "       tab_name\n",
       "0      articles\n",
       "1     customers\n",
       "2  transactions"
      ]
     },
     "execution_count": 26,
     "metadata": {},
     "output_type": "execute_result"
    }
   ],
   "source": [
    "statement = \"SHOW TABLES in {}\".format(database_name)\n",
    "\n",
    "df_show = pd.read_sql(statement, conn)\n",
    "df_show.head(5)"
   ]
  },
  {
   "cell_type": "markdown",
   "metadata": {},
   "source": [
    "### Run a sample query"
   ]
  },
  {
   "cell_type": "code",
   "execution_count": 27,
   "metadata": {},
   "outputs": [
    {
     "name": "stdout",
     "output_type": "stream",
     "text": [
      "SELECT * FROM clothingstore.transactions\n"
     ]
    }
   ],
   "source": [
    "statement = \"\"\"SELECT * FROM {}.{}\"\"\".format(\n",
    "    database_name, table_name\n",
    ")\n",
    "\n",
    "print(statement)"
   ]
  },
  {
   "cell_type": "code",
   "execution_count": 28,
   "metadata": {},
   "outputs": [
    {
     "data": {
      "text/html": [
       "<div>\n",
       "<style scoped>\n",
       "    .dataframe tbody tr th:only-of-type {\n",
       "        vertical-align: middle;\n",
       "    }\n",
       "\n",
       "    .dataframe tbody tr th {\n",
       "        vertical-align: top;\n",
       "    }\n",
       "\n",
       "    .dataframe thead th {\n",
       "        text-align: right;\n",
       "    }\n",
       "</style>\n",
       "<table border=\"1\" class=\"dataframe\">\n",
       "  <thead>\n",
       "    <tr style=\"text-align: right;\">\n",
       "      <th></th>\n",
       "      <th>t_dat</th>\n",
       "      <th>customer_id</th>\n",
       "      <th>article_id</th>\n",
       "      <th>price</th>\n",
       "      <th>sales_channel_id</th>\n",
       "    </tr>\n",
       "  </thead>\n",
       "  <tbody>\n",
       "    <tr>\n",
       "      <th>0</th>\n",
       "      <td>7/26/19</td>\n",
       "      <td>f130606dcf9f69da0c23d61a21957f88c19debf15d7e0f...</td>\n",
       "      <td>741220004</td>\n",
       "      <td>0</td>\n",
       "      <td>1</td>\n",
       "    </tr>\n",
       "    <tr>\n",
       "      <th>1</th>\n",
       "      <td>1/31/20</td>\n",
       "      <td>3fa3367e7c72c440fd9ef4563b233bc9e877db2f28fade...</td>\n",
       "      <td>804750002</td>\n",
       "      <td>0</td>\n",
       "      <td>2</td>\n",
       "    </tr>\n",
       "    <tr>\n",
       "      <th>2</th>\n",
       "      <td>1/4/20</td>\n",
       "      <td>43454a2c49ebf0c98834cee9185f01b0f763e1af1087e5...</td>\n",
       "      <td>812683003</td>\n",
       "      <td>0</td>\n",
       "      <td>1</td>\n",
       "    </tr>\n",
       "    <tr>\n",
       "      <th>3</th>\n",
       "      <td>1/11/20</td>\n",
       "      <td>2421500a485100574700923072d3769b7b8f966c7073f4...</td>\n",
       "      <td>748269003</td>\n",
       "      <td>0</td>\n",
       "      <td>1</td>\n",
       "    </tr>\n",
       "    <tr>\n",
       "      <th>4</th>\n",
       "      <td>5/28/19</td>\n",
       "      <td>14225dc6d582044a43a6a0ef9191ca51ac06b870960be5...</td>\n",
       "      <td>608213007</td>\n",
       "      <td>0</td>\n",
       "      <td>2</td>\n",
       "    </tr>\n",
       "    <tr>\n",
       "      <th>5</th>\n",
       "      <td>11/26/18</td>\n",
       "      <td>015d296b8be07e904ec2b84cd34627e409597af835f743...</td>\n",
       "      <td>695398001</td>\n",
       "      <td>0</td>\n",
       "      <td>2</td>\n",
       "    </tr>\n",
       "    <tr>\n",
       "      <th>6</th>\n",
       "      <td>9/26/18</td>\n",
       "      <td>4d6e809f59b6e592d35c2998535cfed1da27fb29541f14...</td>\n",
       "      <td>535783001</td>\n",
       "      <td>0</td>\n",
       "      <td>2</td>\n",
       "    </tr>\n",
       "    <tr>\n",
       "      <th>7</th>\n",
       "      <td>3/28/19</td>\n",
       "      <td>a44899e4112056655eb523f0a1efc7906ca2b82e6a5038...</td>\n",
       "      <td>502224001</td>\n",
       "      <td>0</td>\n",
       "      <td>2</td>\n",
       "    </tr>\n",
       "    <tr>\n",
       "      <th>8</th>\n",
       "      <td>6/2/19</td>\n",
       "      <td>15972b176a3ba803af38123bf700b7473565654e6a1762...</td>\n",
       "      <td>708021001</td>\n",
       "      <td>0</td>\n",
       "      <td>2</td>\n",
       "    </tr>\n",
       "    <tr>\n",
       "      <th>9</th>\n",
       "      <td>6/16/20</td>\n",
       "      <td>a1124b22110bd68f653c9da56b49f15e608b901cb12a0e...</td>\n",
       "      <td>809961002</td>\n",
       "      <td>0</td>\n",
       "      <td>2</td>\n",
       "    </tr>\n",
       "  </tbody>\n",
       "</table>\n",
       "</div>"
      ],
      "text/plain": [
       "      t_dat                                        customer_id article_id  \\\n",
       "0   7/26/19  f130606dcf9f69da0c23d61a21957f88c19debf15d7e0f...  741220004   \n",
       "1   1/31/20  3fa3367e7c72c440fd9ef4563b233bc9e877db2f28fade...  804750002   \n",
       "2    1/4/20  43454a2c49ebf0c98834cee9185f01b0f763e1af1087e5...  812683003   \n",
       "3   1/11/20  2421500a485100574700923072d3769b7b8f966c7073f4...  748269003   \n",
       "4   5/28/19  14225dc6d582044a43a6a0ef9191ca51ac06b870960be5...  608213007   \n",
       "5  11/26/18  015d296b8be07e904ec2b84cd34627e409597af835f743...  695398001   \n",
       "6   9/26/18  4d6e809f59b6e592d35c2998535cfed1da27fb29541f14...  535783001   \n",
       "7   3/28/19  a44899e4112056655eb523f0a1efc7906ca2b82e6a5038...  502224001   \n",
       "8    6/2/19  15972b176a3ba803af38123bf700b7473565654e6a1762...  708021001   \n",
       "9   6/16/20  a1124b22110bd68f653c9da56b49f15e608b901cb12a0e...  809961002   \n",
       "\n",
       "   price sales_channel_id  \n",
       "0      0                1  \n",
       "1      0                2  \n",
       "2      0                1  \n",
       "3      0                1  \n",
       "4      0                2  \n",
       "5      0                2  \n",
       "6      0                2  \n",
       "7      0                2  \n",
       "8      0                2  \n",
       "9      0                2  "
      ]
     },
     "execution_count": 28,
     "metadata": {},
     "output_type": "execute_result"
    }
   ],
   "source": [
    "df_transactions = pd.read_sql(statement, conn)\n",
    "df_transactions.head(10)"
   ]
  },
  {
   "cell_type": "markdown",
   "metadata": {},
   "source": [
    "##### Align data types for key fields"
   ]
  },
  {
   "cell_type": "code",
   "execution_count": 29,
   "metadata": {},
   "outputs": [],
   "source": [
    "df_transactions['customer_id'] = df_transactions['customer_id'].astype(str)"
   ]
  },
  {
   "cell_type": "code",
   "execution_count": 30,
   "metadata": {},
   "outputs": [],
   "source": [
    "df_transactions['article_id'] = df_transactions['article_id'].astype(str)"
   ]
  },
  {
   "cell_type": "code",
   "execution_count": 31,
   "metadata": {},
   "outputs": [],
   "source": [
    "df_articles['article_id'] = df_articles['article_id'].astype(str)"
   ]
  },
  {
   "cell_type": "code",
   "execution_count": 32,
   "metadata": {},
   "outputs": [],
   "source": [
    "df_customers['customer_id'] = df_customers['customer_id'].astype(str)"
   ]
  },
  {
   "cell_type": "markdown",
   "metadata": {},
   "source": [
    "#### Merging dataframes into one dataframe"
   ]
  },
  {
   "cell_type": "code",
   "execution_count": 33,
   "metadata": {},
   "outputs": [
    {
     "data": {
      "text/html": [
       "<div>\n",
       "<style scoped>\n",
       "    .dataframe tbody tr th:only-of-type {\n",
       "        vertical-align: middle;\n",
       "    }\n",
       "\n",
       "    .dataframe tbody tr th {\n",
       "        vertical-align: top;\n",
       "    }\n",
       "\n",
       "    .dataframe thead th {\n",
       "        text-align: right;\n",
       "    }\n",
       "</style>\n",
       "<table border=\"1\" class=\"dataframe\">\n",
       "  <thead>\n",
       "    <tr style=\"text-align: right;\">\n",
       "      <th></th>\n",
       "      <th>t_dat</th>\n",
       "      <th>customer_id</th>\n",
       "      <th>article_id</th>\n",
       "      <th>price</th>\n",
       "      <th>sales_channel_id</th>\n",
       "      <th>product_code</th>\n",
       "      <th>prod_name</th>\n",
       "      <th>product_type_no</th>\n",
       "      <th>product_type_name</th>\n",
       "      <th>product_group_name</th>\n",
       "      <th>...</th>\n",
       "      <th>section_name</th>\n",
       "      <th>garment_group_no</th>\n",
       "      <th>garment_group_name</th>\n",
       "      <th>detail_desc</th>\n",
       "      <th>fn</th>\n",
       "      <th>active</th>\n",
       "      <th>club_member_status</th>\n",
       "      <th>fashion_news_frequency</th>\n",
       "      <th>age</th>\n",
       "      <th>postal_code</th>\n",
       "    </tr>\n",
       "  </thead>\n",
       "  <tbody>\n",
       "    <tr>\n",
       "      <th>0</th>\n",
       "      <td>7/26/19</td>\n",
       "      <td>f130606dcf9f69da0c23d61a21957f88c19debf15d7e0f...</td>\n",
       "      <td>741220004</td>\n",
       "      <td>0</td>\n",
       "      <td>1</td>\n",
       "      <td>NaN</td>\n",
       "      <td>NaN</td>\n",
       "      <td>NaN</td>\n",
       "      <td>NaN</td>\n",
       "      <td>NaN</td>\n",
       "      <td>...</td>\n",
       "      <td>NaN</td>\n",
       "      <td>NaN</td>\n",
       "      <td>NaN</td>\n",
       "      <td>NaN</td>\n",
       "      <td>None</td>\n",
       "      <td>None</td>\n",
       "      <td>ACTIVE</td>\n",
       "      <td>NONE</td>\n",
       "      <td>20.0</td>\n",
       "      <td>5fb9d1e1aa0193a227da2d0d1531c2851777dbd9f6b8b8...</td>\n",
       "    </tr>\n",
       "    <tr>\n",
       "      <th>1</th>\n",
       "      <td>1/31/20</td>\n",
       "      <td>3fa3367e7c72c440fd9ef4563b233bc9e877db2f28fade...</td>\n",
       "      <td>804750002</td>\n",
       "      <td>0</td>\n",
       "      <td>2</td>\n",
       "      <td>NaN</td>\n",
       "      <td>NaN</td>\n",
       "      <td>NaN</td>\n",
       "      <td>NaN</td>\n",
       "      <td>NaN</td>\n",
       "      <td>...</td>\n",
       "      <td>NaN</td>\n",
       "      <td>NaN</td>\n",
       "      <td>NaN</td>\n",
       "      <td>NaN</td>\n",
       "      <td>None</td>\n",
       "      <td>None</td>\n",
       "      <td>ACTIVE</td>\n",
       "      <td>Regularly</td>\n",
       "      <td>18.0</td>\n",
       "      <td>326462f4d7add11ad4bad886ca8ccd7a22d0aeca51b719...</td>\n",
       "    </tr>\n",
       "    <tr>\n",
       "      <th>2</th>\n",
       "      <td>1/4/20</td>\n",
       "      <td>43454a2c49ebf0c98834cee9185f01b0f763e1af1087e5...</td>\n",
       "      <td>812683003</td>\n",
       "      <td>0</td>\n",
       "      <td>1</td>\n",
       "      <td>NaN</td>\n",
       "      <td>NaN</td>\n",
       "      <td>NaN</td>\n",
       "      <td>NaN</td>\n",
       "      <td>NaN</td>\n",
       "      <td>...</td>\n",
       "      <td>NaN</td>\n",
       "      <td>NaN</td>\n",
       "      <td>NaN</td>\n",
       "      <td>NaN</td>\n",
       "      <td>None</td>\n",
       "      <td>None</td>\n",
       "      <td>ACTIVE</td>\n",
       "      <td>NONE</td>\n",
       "      <td>32.0</td>\n",
       "      <td>7864d53926434725636c8c550ad149c742df5252949724...</td>\n",
       "    </tr>\n",
       "    <tr>\n",
       "      <th>3</th>\n",
       "      <td>1/11/20</td>\n",
       "      <td>2421500a485100574700923072d3769b7b8f966c7073f4...</td>\n",
       "      <td>748269003</td>\n",
       "      <td>0</td>\n",
       "      <td>1</td>\n",
       "      <td>NaN</td>\n",
       "      <td>NaN</td>\n",
       "      <td>NaN</td>\n",
       "      <td>NaN</td>\n",
       "      <td>NaN</td>\n",
       "      <td>...</td>\n",
       "      <td>NaN</td>\n",
       "      <td>NaN</td>\n",
       "      <td>NaN</td>\n",
       "      <td>NaN</td>\n",
       "      <td>None</td>\n",
       "      <td>None</td>\n",
       "      <td>ACTIVE</td>\n",
       "      <td>NONE</td>\n",
       "      <td>44.0</td>\n",
       "      <td>66436f5dfbcbc6a5ce99a2de6f30d7d1a7189e09d3194b...</td>\n",
       "    </tr>\n",
       "    <tr>\n",
       "      <th>4</th>\n",
       "      <td>5/28/19</td>\n",
       "      <td>14225dc6d582044a43a6a0ef9191ca51ac06b870960be5...</td>\n",
       "      <td>608213007</td>\n",
       "      <td>0</td>\n",
       "      <td>2</td>\n",
       "      <td>NaN</td>\n",
       "      <td>NaN</td>\n",
       "      <td>NaN</td>\n",
       "      <td>NaN</td>\n",
       "      <td>NaN</td>\n",
       "      <td>...</td>\n",
       "      <td>NaN</td>\n",
       "      <td>NaN</td>\n",
       "      <td>NaN</td>\n",
       "      <td>NaN</td>\n",
       "      <td>None</td>\n",
       "      <td>None</td>\n",
       "      <td>ACTIVE</td>\n",
       "      <td>NONE</td>\n",
       "      <td>48.0</td>\n",
       "      <td>bb07257a124699953138300becad8e437b0884f5b7c3bb...</td>\n",
       "    </tr>\n",
       "  </tbody>\n",
       "</table>\n",
       "<p>5 rows × 35 columns</p>\n",
       "</div>"
      ],
      "text/plain": [
       "     t_dat                                        customer_id article_id  \\\n",
       "0  7/26/19  f130606dcf9f69da0c23d61a21957f88c19debf15d7e0f...  741220004   \n",
       "1  1/31/20  3fa3367e7c72c440fd9ef4563b233bc9e877db2f28fade...  804750002   \n",
       "2   1/4/20  43454a2c49ebf0c98834cee9185f01b0f763e1af1087e5...  812683003   \n",
       "3  1/11/20  2421500a485100574700923072d3769b7b8f966c7073f4...  748269003   \n",
       "4  5/28/19  14225dc6d582044a43a6a0ef9191ca51ac06b870960be5...  608213007   \n",
       "\n",
       "   price sales_channel_id product_code prod_name product_type_no  \\\n",
       "0      0                1          NaN       NaN             NaN   \n",
       "1      0                2          NaN       NaN             NaN   \n",
       "2      0                1          NaN       NaN             NaN   \n",
       "3      0                1          NaN       NaN             NaN   \n",
       "4      0                2          NaN       NaN             NaN   \n",
       "\n",
       "  product_type_name product_group_name  ... section_name garment_group_no  \\\n",
       "0               NaN                NaN  ...          NaN              NaN   \n",
       "1               NaN                NaN  ...          NaN              NaN   \n",
       "2               NaN                NaN  ...          NaN              NaN   \n",
       "3               NaN                NaN  ...          NaN              NaN   \n",
       "4               NaN                NaN  ...          NaN              NaN   \n",
       "\n",
       "  garment_group_name detail_desc    fn active club_member_status  \\\n",
       "0                NaN         NaN  None   None             ACTIVE   \n",
       "1                NaN         NaN  None   None             ACTIVE   \n",
       "2                NaN         NaN  None   None             ACTIVE   \n",
       "3                NaN         NaN  None   None             ACTIVE   \n",
       "4                NaN         NaN  None   None             ACTIVE   \n",
       "\n",
       "  fashion_news_frequency   age  \\\n",
       "0                   NONE  20.0   \n",
       "1              Regularly  18.0   \n",
       "2                   NONE  32.0   \n",
       "3                   NONE  44.0   \n",
       "4                   NONE  48.0   \n",
       "\n",
       "                                         postal_code  \n",
       "0  5fb9d1e1aa0193a227da2d0d1531c2851777dbd9f6b8b8...  \n",
       "1  326462f4d7add11ad4bad886ca8ccd7a22d0aeca51b719...  \n",
       "2  7864d53926434725636c8c550ad149c742df5252949724...  \n",
       "3  66436f5dfbcbc6a5ce99a2de6f30d7d1a7189e09d3194b...  \n",
       "4  bb07257a124699953138300becad8e437b0884f5b7c3bb...  \n",
       "\n",
       "[5 rows x 35 columns]"
      ]
     },
     "execution_count": 33,
     "metadata": {},
     "output_type": "execute_result"
    }
   ],
   "source": [
    "df_merge = df_transactions.merge(df_articles,on='article_id', how='left').merge(df_customers,on='customer_id', how='left')\n",
    "df_merge.head()"
   ]
  },
  {
   "cell_type": "markdown",
   "metadata": {},
   "source": [
    "# Data Exploration"
   ]
  },
  {
   "cell_type": "code",
   "execution_count": 34,
   "metadata": {},
   "outputs": [],
   "source": [
    "import numpy as np\n",
    "import pandas as pd\n",
    "import seaborn as sns\n",
    "\n",
    "import matplotlib.pyplot as plt\n",
    "\n",
    "%matplotlib inline\n",
    "%config InlineBackend.figure_format='retina'"
   ]
  },
  {
   "cell_type": "code",
   "execution_count": 35,
   "metadata": {},
   "outputs": [],
   "source": [
    "sns.set_style = \"seaborn-whitegrid\"\n",
    "\n",
    "sns.set(\n",
    "    rc={\n",
    "        \"font.style\": \"normal\",\n",
    "        \"axes.facecolor\": \"white\",\n",
    "        \"grid.color\": \".8\",\n",
    "        \"grid.linestyle\": \"-\",\n",
    "        \"figure.facecolor\": \"white\",\n",
    "        \"figure.titlesize\": 20,\n",
    "        \"text.color\": \"black\",\n",
    "        \"xtick.color\": \"black\",\n",
    "        \"ytick.color\": \"black\",\n",
    "        \"axes.labelcolor\": \"black\",\n",
    "        \"axes.grid\": True,\n",
    "        \"axes.labelsize\": 10,\n",
    "        \"xtick.labelsize\": 10,\n",
    "        \"font.size\": 10,\n",
    "        \"ytick.labelsize\": 10,\n",
    "    }\n",
    ")\n"
   ]
  },
  {
   "cell_type": "code",
   "execution_count": 36,
   "metadata": {},
   "outputs": [],
   "source": [
    "def show_values_barplot(axs, space):\n",
    "    def _show_on_plot(ax):\n",
    "        for p in ax.patches:\n",
    "            _x = p.get_x() + p.get_width() + float(space)\n",
    "            _y = p.get_y() + p.get_height()\n",
    "            value = round(float(p.get_width()), 2)\n",
    "            ax.text(_x, _y, value, ha=\"left\")\n",
    "\n",
    "    if isinstance(axs, np.ndarray):\n",
    "        for idx, ax in np.ndenumerate(axs):\n",
    "            _show_on_plot(ax)\n",
    "    else:\n",
    "        _show_on_plot(axs)\n"
   ]
  },
  {
   "cell_type": "markdown",
   "metadata": {},
   "source": [
    "### Visualizations"
   ]
  },
  {
   "cell_type": "code",
   "execution_count": 41,
   "metadata": {},
   "outputs": [
    {
     "data": {
      "image/png": "[encoded data removed]",
      "text/plain": [
       "<Figure size 432x288 with 1 Axes>"
      ]
     },
     "metadata": {
      "image/png": {
       "height": 264,
       "width": 410
      }
     },
     "output_type": "display_data"
    }
   ],
   "source": [
    "club_member_count_viz = sns.countplot(x=\"club_member_status\", data=df_merge)"
   ]
  },
  {
   "cell_type": "code",
   "execution_count": 42,
   "metadata": {},
   "outputs": [
    {
     "data": {
      "image/png": "[encoded data removed]",
      "text/plain": [
       "<Figure size 432x288 with 1 Axes>"
      ]
     },
     "metadata": {
      "image/png": {
       "height": 264,
       "width": 385
      }
     },
     "output_type": "display_data"
    }
   ],
   "source": [
    "club_member_age_viz =  sns.barplot(y=\"age\", x=\"club_member_status\", data=df_merge, saturation=1)"
   ]
  },
  {
   "cell_type": "code",
   "execution_count": 43,
   "metadata": {},
   "outputs": [
    {
     "data": {
      "text/plain": [
       "<matplotlib.axes._subplots.AxesSubplot at 0x7f42dbb81d10>"
      ]
     },
     "execution_count": 43,
     "metadata": {},
     "output_type": "execute_result"
    },
    {
     "data": {
      "image/png": "[encoded data removed]",
      "text/plain": [
       "<Figure size 432x288 with 1 Axes>"
      ]
     },
     "metadata": {
      "image/png": {
       "height": 251,
       "width": 404
      }
     },
     "output_type": "display_data"
    }
   ],
   "source": [
    "df_merge[\"age\"].plot.hist(bins=50)"
   ]
  },
  {
   "cell_type": "markdown",
   "metadata": {},
   "source": [
    "#### Rebalance Data"
   ]
  },
  {
   "cell_type": "markdown",
   "metadata": {},
   "source": [
    "###### Create Bins for int variables"
   ]
  },
  {
   "cell_type": "code",
   "execution_count": 44,
   "metadata": {},
   "outputs": [],
   "source": [
    "df_merge['AgeBins'] = pd.qcut(df_merge['age'],4)"
   ]
  },
  {
   "cell_type": "code",
   "execution_count": 45,
   "metadata": {},
   "outputs": [
    {
     "data": {
      "text/plain": [
       "[(15.999, 25.0], (31.0, 47.0], (47.0, 99.0], (25.0, 31.0], NaN]\n",
       "Categories (4, interval[float64]): [(15.999, 25.0] < (25.0, 31.0] < (31.0, 47.0] < (47.0, 99.0]]"
      ]
     },
     "execution_count": 45,
     "metadata": {},
     "output_type": "execute_result"
    }
   ],
   "source": [
    "df_merge['AgeBins'].unique()"
   ]
  },
  {
   "cell_type": "markdown",
   "metadata": {},
   "source": [
    "###### Balance the data with binned variables"
   ]
  },
  {
   "cell_type": "code",
   "execution_count": 48,
   "metadata": {},
   "outputs": [
    {
     "data": {
      "text/plain": [
       "(196420, 2)"
      ]
     },
     "execution_count": 48,
     "metadata": {},
     "output_type": "execute_result"
    }
   ],
   "source": [
    "df_grouped_by = df_merge.groupby([\"AgeBins\", \"price\"])[[\"AgeBins\", \"price\"]]\n",
    "df_balanced = df_grouped_by.apply(lambda x: x.sample(df_grouped_by.size().min()).reset_index(drop=True))\n",
    "df_balanced.shape"
   ]
  },
  {
   "cell_type": "code",
   "execution_count": 49,
   "metadata": {},
   "outputs": [
    {
     "data": {
      "text/plain": [
       "<matplotlib.axes._subplots.AxesSubplot at 0x7f42da4eeb90>"
      ]
     },
     "execution_count": 49,
     "metadata": {},
     "output_type": "execute_result"
    },
    {
     "data": {
      "image/png": "[encoded data removed]",
      "text/plain": [
       "<Figure size 432x288 with 1 Axes>"
      ]
     },
     "metadata": {
      "image/png": {
       "height": 264,
       "width": 404
      }
     },
     "output_type": "display_data"
    }
   ],
   "source": [
    "import seaborn as sns\n",
    "\n",
    "sns.countplot(data=df_balanced, x=\"AgeBins\", hue=\"price\")"
   ]
  },
  {
   "cell_type": "markdown",
   "metadata": {},
   "source": [
    "CLOSE FILE"
   ]
  },
  {
   "cell_type": "code",
   "execution_count": 50,
   "metadata": {},
   "outputs": [
    {
     "data": {
      "text/html": [
       "\n",
       "<p><b>Shutting down your kernel for this notebook to release resources.</b></p>\n",
       "<button class=\"sm-command-button\" data-commandlinker-command=\"kernelmenu:shutdown\" style=\"display:none;\">Shutdown Kernel</button>\n",
       "        \n",
       "<script>\n",
       "try {\n",
       "    els = document.getElementsByClassName(\"sm-command-button\");\n",
       "    els[0].click();\n",
       "}\n",
       "catch(err) {\n",
       "    // NoOp\n",
       "}    \n",
       "</script>\n"
      ],
      "text/plain": [
       "<IPython.core.display.HTML object>"
      ]
     },
     "metadata": {},
     "output_type": "display_data"
    }
   ],
   "source": [
    "%%html\n",
    "\n",
    "<p><b>Shutting down your kernel for this notebook to release resources.</b></p>\n",
    "<button class=\"sm-command-button\" data-commandlinker-command=\"kernelmenu:shutdown\" style=\"display:none;\">Shutdown Kernel</button>\n",
    "        \n",
    "<script>\n",
    "try {\n",
    "    els = document.getElementsByClassName(\"sm-command-button\");\n",
    "    els[0].click();\n",
    "}\n",
    "catch(err) {\n",
    "    // NoOp\n",
    "}    \n",
    "</script>"
   ]
  },
  {
   "cell_type": "code",
   "execution_count": null,
   "metadata": {},
   "outputs": [],
   "source": [
    "%%javascript\n",
    "\n",
    "try {\n",
    "    Jupyter.notebook.save_checkpoint();\n",
    "    Jupyter.notebook.session.delete();\n",
    "}\n",
    "catch(err) {\n",
    "    // NoOp\n",
    "}"
   ]
  },
  {
   "cell_type": "code",
   "execution_count": null,
   "metadata": {},
   "outputs": [],
   "source": []
  }
 ],
 "metadata": {
  "kernelspec": {
   "display_name": "Python 3 (Data Science)",
   "language": "python",
   "name": "python3__SAGEMAKER_INTERNAL__arn:aws:sagemaker:us-east-1:081325390199:image/datascience-1.0"
  },
  "language_info": {
   "codemirror_mode": {
    "name": "ipython",
    "version": 3
   },
   "file_extension": ".py",
   "mimetype": "text/x-python",
   "name": "python",
   "nbconvert_exporter": "python",
   "pygments_lexer": "ipython3",
   "version": "3.7.10"
  }
 },
 "nbformat": 4,
 "nbformat_minor": 4
}
